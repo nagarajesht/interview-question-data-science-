{
  "nbformat": 4,
  "nbformat_minor": 0,
  "metadata": {
    "colab": {
      "provenance": [],
      "mount_file_id": "1ivgK_4ibX8hVajyKGGOy-2R13dHKskG8",
      "authorship_tag": "ABX9TyN+c6U8DuK2icm2ttBKGSTF",
      "include_colab_link": true
    },
    "kernelspec": {
      "name": "python3",
      "display_name": "Python 3"
    },
    "language_info": {
      "name": "python"
    }
  },
  "cells": [
    {
      "cell_type": "markdown",
      "metadata": {
        "id": "view-in-github",
        "colab_type": "text"
      },
      "source": [
        "<a href=\"https://colab.research.google.com/github/nagarajesht/interview-question-data-science-/blob/master/SentimentAnalysis_pynb.ipynb\" target=\"_parent\"><img src=\"https://colab.research.google.com/assets/colab-badge.svg\" alt=\"Open In Colab\"/></a>"
      ]
    },
    {
      "cell_type": "markdown",
      "source": [
        "# NLP Assignment"
      ],
      "metadata": {
        "id": "4ByX55-KNIho"
      }
    },
    {
      "cell_type": "markdown",
      "source": [
        "In this project you will be working on two different datasets in which one dataset contains news\n",
        "headlines with unlabeled sentiments. And another dataset contains labeled tweets from the\n",
        "twitter data.  \n",
        "\n",
        "**Twitter Data:**\n",
        "\n",
        "*   ID  - Id of the tweet\n",
        "*   Brand - Brand associated with the tweet\n",
        "*   Sentiment - Sentiment Label for the tweet\n",
        "*   Phrase - The actual phrase\n",
        "\n",
        "**News Data:**\n",
        "\n",
        "*   Time stamp  - Date of the headline\n",
        "*   Headline - Headline phrase\n",
        "\n",
        "\n",
        "**Tasks To be Performed:**\n",
        "1. Transform the Text data to be processed for Sentiment Analysis\n",
        "2. Generate Sentiments for unlabeled news headlines data.\n",
        "3. Evaluate the sentiment analysis models based on accuracy. "
      ],
      "metadata": {
        "id": "Uc2T_SJBPf6k"
      }
    },
    {
      "cell_type": "code",
      "source": [
        "import pandas as pd\n",
        "import numpy as np\n",
        "from sklearn import preprocessing\n",
        "import seaborn as sns\n",
        "import string\n",
        "from nltk.corpus import stopwords\n",
        "from nltk.tokenize import word_tokenize\n",
        "import re\n",
        "from nltk import WordNetLemmatizer\n",
        "from textblob import TextBlob\n",
        "from sklearn.feature_extraction.text import TfidfVectorizer\n",
        "import itertools\n",
        "from sklearn.metrics import confusion_matrix\n",
        "import matplotlib.pyplot as plt\n",
        "import tensorflow as tf\n",
        "from sklearn.metrics import classification_report\n",
        "from sklearn.ensemble import RandomForestClassifier\n"
      ],
      "metadata": {
        "id": "_UuA50AKTcL0"
      },
      "execution_count": 146,
      "outputs": []
    },
    {
      "cell_type": "markdown",
      "source": [
        "# News Dataset"
      ],
      "metadata": {
        "id": "hke-OCF-4IeF"
      }
    },
    {
      "cell_type": "markdown",
      "source": [
        "## Text Data Preprocessing"
      ],
      "metadata": {
        "id": "HL469YGUhfUM"
      }
    },
    {
      "cell_type": "code",
      "source": [
        "# Load the news headlines data\n",
        "newsdata=pd.read_csv(\"news.csv\")"
      ],
      "metadata": {
        "id": "cFp2MgKUUiRK"
      },
      "execution_count": null,
      "outputs": []
    },
    {
      "cell_type": "code",
      "source": [
        "newsdata.head()"
      ],
      "metadata": {
        "colab": {
          "base_uri": "https://localhost:8080/",
          "height": 206
        },
        "id": "WlXL7XW0U-1I",
        "outputId": "67a804a3-4407-459d-ee45-62898bceef5d"
      },
      "execution_count": null,
      "outputs": [
        {
          "output_type": "execute_result",
          "data": {
            "text/plain": [
              "   publish_date                                           headline\n",
              "0      20030219  aba decides against community broadcasting lic...\n",
              "1      20030219     act fire witnesses must be aware of defamation\n",
              "2      20030219     a g calls for infrastructure protection summit\n",
              "3      20030219           air nz staff in aust strike for pay rise\n",
              "4      20030219      air nz strike to affect australian travellers"
            ],
            "text/html": [
              "\n",
              "  <div id=\"df-23bd83fb-82c7-4eef-b4c9-d9dbe09299aa\">\n",
              "    <div class=\"colab-df-container\">\n",
              "      <div>\n",
              "<style scoped>\n",
              "    .dataframe tbody tr th:only-of-type {\n",
              "        vertical-align: middle;\n",
              "    }\n",
              "\n",
              "    .dataframe tbody tr th {\n",
              "        vertical-align: top;\n",
              "    }\n",
              "\n",
              "    .dataframe thead th {\n",
              "        text-align: right;\n",
              "    }\n",
              "</style>\n",
              "<table border=\"1\" class=\"dataframe\">\n",
              "  <thead>\n",
              "    <tr style=\"text-align: right;\">\n",
              "      <th></th>\n",
              "      <th>publish_date</th>\n",
              "      <th>headline</th>\n",
              "    </tr>\n",
              "  </thead>\n",
              "  <tbody>\n",
              "    <tr>\n",
              "      <th>0</th>\n",
              "      <td>20030219</td>\n",
              "      <td>aba decides against community broadcasting lic...</td>\n",
              "    </tr>\n",
              "    <tr>\n",
              "      <th>1</th>\n",
              "      <td>20030219</td>\n",
              "      <td>act fire witnesses must be aware of defamation</td>\n",
              "    </tr>\n",
              "    <tr>\n",
              "      <th>2</th>\n",
              "      <td>20030219</td>\n",
              "      <td>a g calls for infrastructure protection summit</td>\n",
              "    </tr>\n",
              "    <tr>\n",
              "      <th>3</th>\n",
              "      <td>20030219</td>\n",
              "      <td>air nz staff in aust strike for pay rise</td>\n",
              "    </tr>\n",
              "    <tr>\n",
              "      <th>4</th>\n",
              "      <td>20030219</td>\n",
              "      <td>air nz strike to affect australian travellers</td>\n",
              "    </tr>\n",
              "  </tbody>\n",
              "</table>\n",
              "</div>\n",
              "      <button class=\"colab-df-convert\" onclick=\"convertToInteractive('df-23bd83fb-82c7-4eef-b4c9-d9dbe09299aa')\"\n",
              "              title=\"Convert this dataframe to an interactive table.\"\n",
              "              style=\"display:none;\">\n",
              "        \n",
              "  <svg xmlns=\"http://www.w3.org/2000/svg\" height=\"24px\"viewBox=\"0 0 24 24\"\n",
              "       width=\"24px\">\n",
              "    <path d=\"M0 0h24v24H0V0z\" fill=\"none\"/>\n",
              "    <path d=\"M18.56 5.44l.94 2.06.94-2.06 2.06-.94-2.06-.94-.94-2.06-.94 2.06-2.06.94zm-11 1L8.5 8.5l.94-2.06 2.06-.94-2.06-.94L8.5 2.5l-.94 2.06-2.06.94zm10 10l.94 2.06.94-2.06 2.06-.94-2.06-.94-.94-2.06-.94 2.06-2.06.94z\"/><path d=\"M17.41 7.96l-1.37-1.37c-.4-.4-.92-.59-1.43-.59-.52 0-1.04.2-1.43.59L10.3 9.45l-7.72 7.72c-.78.78-.78 2.05 0 2.83L4 21.41c.39.39.9.59 1.41.59.51 0 1.02-.2 1.41-.59l7.78-7.78 2.81-2.81c.8-.78.8-2.07 0-2.86zM5.41 20L4 18.59l7.72-7.72 1.47 1.35L5.41 20z\"/>\n",
              "  </svg>\n",
              "      </button>\n",
              "      \n",
              "  <style>\n",
              "    .colab-df-container {\n",
              "      display:flex;\n",
              "      flex-wrap:wrap;\n",
              "      gap: 12px;\n",
              "    }\n",
              "\n",
              "    .colab-df-convert {\n",
              "      background-color: #E8F0FE;\n",
              "      border: none;\n",
              "      border-radius: 50%;\n",
              "      cursor: pointer;\n",
              "      display: none;\n",
              "      fill: #1967D2;\n",
              "      height: 32px;\n",
              "      padding: 0 0 0 0;\n",
              "      width: 32px;\n",
              "    }\n",
              "\n",
              "    .colab-df-convert:hover {\n",
              "      background-color: #E2EBFA;\n",
              "      box-shadow: 0px 1px 2px rgba(60, 64, 67, 0.3), 0px 1px 3px 1px rgba(60, 64, 67, 0.15);\n",
              "      fill: #174EA6;\n",
              "    }\n",
              "\n",
              "    [theme=dark] .colab-df-convert {\n",
              "      background-color: #3B4455;\n",
              "      fill: #D2E3FC;\n",
              "    }\n",
              "\n",
              "    [theme=dark] .colab-df-convert:hover {\n",
              "      background-color: #434B5C;\n",
              "      box-shadow: 0px 1px 3px 1px rgba(0, 0, 0, 0.15);\n",
              "      filter: drop-shadow(0px 1px 2px rgba(0, 0, 0, 0.3));\n",
              "      fill: #FFFFFF;\n",
              "    }\n",
              "  </style>\n",
              "\n",
              "      <script>\n",
              "        const buttonEl =\n",
              "          document.querySelector('#df-23bd83fb-82c7-4eef-b4c9-d9dbe09299aa button.colab-df-convert');\n",
              "        buttonEl.style.display =\n",
              "          google.colab.kernel.accessAllowed ? 'block' : 'none';\n",
              "\n",
              "        async function convertToInteractive(key) {\n",
              "          const element = document.querySelector('#df-23bd83fb-82c7-4eef-b4c9-d9dbe09299aa');\n",
              "          const dataTable =\n",
              "            await google.colab.kernel.invokeFunction('convertToInteractive',\n",
              "                                                     [key], {});\n",
              "          if (!dataTable) return;\n",
              "\n",
              "          const docLinkHtml = 'Like what you see? Visit the ' +\n",
              "            '<a target=\"_blank\" href=https://colab.research.google.com/notebooks/data_table.ipynb>data table notebook</a>'\n",
              "            + ' to learn more about interactive tables.';\n",
              "          element.innerHTML = '';\n",
              "          dataTable['output_type'] = 'display_data';\n",
              "          await google.colab.output.renderOutput(dataTable, element);\n",
              "          const docLink = document.createElement('div');\n",
              "          docLink.innerHTML = docLinkHtml;\n",
              "          element.appendChild(docLink);\n",
              "        }\n",
              "      </script>\n",
              "    </div>\n",
              "  </div>\n",
              "  "
            ]
          },
          "metadata": {},
          "execution_count": 48
        }
      ]
    },
    {
      "cell_type": "code",
      "source": [
        "# Check for null values in the table\n",
        "newsdata.isnull().sum()"
      ],
      "metadata": {
        "colab": {
          "base_uri": "https://localhost:8080/"
        },
        "id": "MYOjGWMB7GBR",
        "outputId": "28b03520-ae98-4e38-dfd3-ced29dc9d3bd"
      },
      "execution_count": null,
      "outputs": [
        {
          "output_type": "execute_result",
          "data": {
            "text/plain": [
              "publish_date    0\n",
              "headline        0\n",
              "dtype: int64"
            ]
          },
          "metadata": {},
          "execution_count": 49
        }
      ]
    },
    {
      "cell_type": "code",
      "source": [
        "newsdata['headline']"
      ],
      "metadata": {
        "colab": {
          "base_uri": "https://localhost:8080/"
        },
        "id": "u3SFHZyEugSO",
        "outputId": "6586c5d8-9f98-4adf-bd9b-3c64bd676227"
      },
      "execution_count": null,
      "outputs": [
        {
          "output_type": "execute_result",
          "data": {
            "text/plain": [
              "0          aba decides against community broadcasting lic...\n",
              "1             act fire witnesses must be aware of defamation\n",
              "2             a g calls for infrastructure protection summit\n",
              "3                   air nz staff in aust strike for pay rise\n",
              "4              air nz strike to affect australian travellers\n",
              "                                 ...                        \n",
              "1048570      bill de blasio no evidence of terror connection\n",
              "1048571    boyer lectures michael marmot work harming you...\n",
              "1048572                     carnaby cockatoo revival program\n",
              "1048573    collier convinced colin barnett has overwhelmi...\n",
              "1048574    cowboys offer indigenous kids north queensland...\n",
              "Name: headline, Length: 1048575, dtype: object"
            ]
          },
          "metadata": {},
          "execution_count": 50
        }
      ]
    },
    {
      "cell_type": "code",
      "source": [
        "# First lets remove Punctuations from the Reviews\n",
        "import string\n",
        "def punctuation_removal(messy_str):\n",
        "    clean_list = [char for char in messy_str if char not in string.punctuation]\n",
        "    clean_str = ''.join(clean_list)\n",
        "    return clean_str\n",
        "\n",
        "newsdata['headline'] = newsdata['headline'].apply(punctuation_removal)"
      ],
      "metadata": {
        "id": "1fcMIGCF0czg"
      },
      "execution_count": null,
      "outputs": []
    },
    {
      "cell_type": "code",
      "source": [
        "newsdata['headline']"
      ],
      "metadata": {
        "colab": {
          "base_uri": "https://localhost:8080/"
        },
        "id": "Btt7k_e-1F3W",
        "outputId": "25c2a726-ee0f-4bcc-bf33-01f1e5e7ab2b"
      },
      "execution_count": null,
      "outputs": [
        {
          "output_type": "execute_result",
          "data": {
            "text/plain": [
              "0          aba decides against community broadcasting lic...\n",
              "1             act fire witnesses must be aware of defamation\n",
              "2             a g calls for infrastructure protection summit\n",
              "3                   air nz staff in aust strike for pay rise\n",
              "4              air nz strike to affect australian travellers\n",
              "                                 ...                        \n",
              "1048570      bill de blasio no evidence of terror connection\n",
              "1048571    boyer lectures michael marmot work harming you...\n",
              "1048572                     carnaby cockatoo revival program\n",
              "1048573    collier convinced colin barnett has overwhelmi...\n",
              "1048574    cowboys offer indigenous kids north queensland...\n",
              "Name: headline, Length: 1048575, dtype: object"
            ]
          },
          "metadata": {},
          "execution_count": 52
        }
      ]
    },
    {
      "cell_type": "code",
      "source": [
        "# Now lets Remove the Stopwords also\n",
        "\n",
        "stop=stopwords.words('english')\n",
        "stop.append(\"i'm\")\n",
        "\n",
        "stop_words = []\n",
        "\n",
        "for item in stop: \n",
        "    new_item = punctuation_removal(item)\n",
        "    stop_words.append(new_item) \n",
        "\n",
        "def stopwords_removal(messy_str):\n",
        "    messy_str = word_tokenize(messy_str)\n",
        "    return [word.lower() for word in messy_str \n",
        "            if word.lower() not in stop_words ]\n",
        "\n",
        "newsdata['headline'] = newsdata['headline'].apply(stopwords_removal)\n",
        "newsdata['headline']"
      ],
      "metadata": {
        "colab": {
          "base_uri": "https://localhost:8080/"
        },
        "id": "X3aFC_Ah4caO",
        "outputId": "418140d9-d7cb-4674-8f73-524e5a887eac"
      },
      "execution_count": null,
      "outputs": [
        {
          "output_type": "execute_result",
          "data": {
            "text/plain": [
              "0           [aba, decides, community, broadcasting, licence]\n",
              "1            [act, fire, witnesses, must, aware, defamation]\n",
              "2             [g, calls, infrastructure, protection, summit]\n",
              "3                  [air, nz, staff, aust, strike, pay, rise]\n",
              "4          [air, nz, strike, affect, australian, travellers]\n",
              "                                 ...                        \n",
              "1048570     [bill, de, blasio, evidence, terror, connection]\n",
              "1048571    [boyer, lectures, michael, marmot, work, harmi...\n",
              "1048572                [carnaby, cockatoo, revival, program]\n",
              "1048573    [collier, convinced, colin, barnett, overwhelm...\n",
              "1048574    [cowboys, offer, indigenous, kids, north, quee...\n",
              "Name: headline, Length: 1048575, dtype: object"
            ]
          },
          "metadata": {},
          "execution_count": 53
        }
      ]
    },
    {
      "cell_type": "code",
      "source": [
        "# Perform lemmatisation\n",
        "\n",
        "#import nltk\n",
        "#nltk.download('wordnet')\n",
        "#nltk.download('omw-1.4')\n",
        "\n",
        "lemmatizer = WordNetLemmatizer()\n",
        "def lemmatise(text):\n",
        "    text_tokens = word_tokenize(str(text))\n",
        "    text_lemm = [lemmatizer.lemmatize(word) for word in text_tokens]\n",
        "    return ' '.join(text_lemm)\n",
        "\n",
        "newsdata['headline'] = newsdata['headline'].apply(lemmatise)\n",
        "newsdata['headline']"
      ],
      "metadata": {
        "colab": {
          "base_uri": "https://localhost:8080/"
        },
        "id": "3Ns_b3E05GbS",
        "outputId": "3417e190-9aa2-473b-868d-fdd9ca81e10e"
      },
      "execution_count": null,
      "outputs": [
        {
          "output_type": "execute_result",
          "data": {
            "text/plain": [
              "0          [ 'aba ' , 'decides ' , 'community ' , 'broadc...\n",
              "1          [ 'act ' , 'fire ' , 'witnesses ' , 'must ' , ...\n",
              "2          [ ' g ' , 'calls ' , 'infrastructure ' , 'prot...\n",
              "3          [ 'air ' , 'nz ' , 'staff ' , 'aust ' , 'strik...\n",
              "4          [ 'air ' , 'nz ' , 'strike ' , 'affect ' , 'au...\n",
              "                                 ...                        \n",
              "1048570    [ 'bill ' , 'de ' , 'blasio ' , 'evidence ' , ...\n",
              "1048571    [ 'boyer ' , 'lectures ' , 'michael ' , 'marmo...\n",
              "1048572    [ 'carnaby ' , 'cockatoo ' , 'revival ' , 'pro...\n",
              "1048573    [ 'collier ' , 'convinced ' , 'colin ' , 'barn...\n",
              "1048574    [ 'cowboys ' , 'offer ' , 'indigenous ' , 'kid...\n",
              "Name: headline, Length: 1048575, dtype: object"
            ]
          },
          "metadata": {},
          "execution_count": 54
        }
      ]
    },
    {
      "cell_type": "markdown",
      "source": [
        "### Generate Sentiments for unlabeled news headlines data"
      ],
      "metadata": {
        "id": "8QK2ukPW8xEb"
      }
    },
    {
      "cell_type": "code",
      "source": [
        "# Calculate polarity from the news headline\n",
        "def get_polarity(text):\n",
        "  textblob=TextBlob(text)\n",
        "  pol=textblob.sentiment.polarity\n",
        "  return pol\n",
        "\n",
        "newsdata['Polarity']=newsdata['headline'].apply(get_polarity)\n",
        "newsdata['Polarity']"
      ],
      "metadata": {
        "colab": {
          "base_uri": "https://localhost:8080/"
        },
        "id": "Pa7jF_A_81Ce",
        "outputId": "326d27ea-2516-4cb1-a9a9-c78278fe925f"
      },
      "execution_count": null,
      "outputs": [
        {
          "output_type": "execute_result",
          "data": {
            "text/plain": [
              "0          0.00\n",
              "1          0.25\n",
              "2          0.00\n",
              "3          0.00\n",
              "4          0.00\n",
              "           ... \n",
              "1048570    0.00\n",
              "1048571    0.00\n",
              "1048572    0.00\n",
              "1048573    0.50\n",
              "1048574    0.00\n",
              "Name: Polarity, Length: 1048575, dtype: float64"
            ]
          },
          "metadata": {},
          "execution_count": 55
        }
      ]
    },
    {
      "cell_type": "code",
      "source": [
        "newsdata['Polarity'].value_counts()"
      ],
      "metadata": {
        "colab": {
          "base_uri": "https://localhost:8080/"
        },
        "id": "H0qX2qV7-kny",
        "outputId": "1833c0a6-441f-4f22-ae87-f3d85bcc7de3"
      },
      "execution_count": null,
      "outputs": [
        {
          "output_type": "execute_result",
          "data": {
            "text/plain": [
              " 0.000000    763081\n",
              "-0.200000     25095\n",
              " 0.136364     21475\n",
              "-0.100000     19975\n",
              " 0.100000     19423\n",
              "              ...  \n",
              " 0.159091         1\n",
              " 0.242424         1\n",
              "-0.338889         1\n",
              " 0.642857         1\n",
              " 0.275758         1\n",
              "Name: Polarity, Length: 2007, dtype: int64"
            ]
          },
          "metadata": {},
          "execution_count": 57
        }
      ]
    },
    {
      "cell_type": "code",
      "source": [
        "newsdata"
      ],
      "metadata": {
        "colab": {
          "base_uri": "https://localhost:8080/",
          "height": 424
        },
        "id": "9sLqEiVs_CDL",
        "outputId": "91db2374-50f4-483f-f911-ccde58ceec44"
      },
      "execution_count": null,
      "outputs": [
        {
          "output_type": "execute_result",
          "data": {
            "text/plain": [
              "         publish_date                                           headline  \\\n",
              "0            20030219  [ 'aba ' , 'decides ' , 'community ' , 'broadc...   \n",
              "1            20030219  [ 'act ' , 'fire ' , 'witnesses ' , 'must ' , ...   \n",
              "2            20030219  [ ' g ' , 'calls ' , 'infrastructure ' , 'prot...   \n",
              "3            20030219  [ 'air ' , 'nz ' , 'staff ' , 'aust ' , 'strik...   \n",
              "4            20030219  [ 'air ' , 'nz ' , 'strike ' , 'affect ' , 'au...   \n",
              "...               ...                                                ...   \n",
              "1048570      20160918  [ 'bill ' , 'de ' , 'blasio ' , 'evidence ' , ...   \n",
              "1048571      20160918  [ 'boyer ' , 'lectures ' , 'michael ' , 'marmo...   \n",
              "1048572      20160918  [ 'carnaby ' , 'cockatoo ' , 'revival ' , 'pro...   \n",
              "1048573      20160918  [ 'collier ' , 'convinced ' , 'colin ' , 'barn...   \n",
              "1048574      20160918  [ 'cowboys ' , 'offer ' , 'indigenous ' , 'kid...   \n",
              "\n",
              "         Polarity  \n",
              "0            0.00  \n",
              "1            0.25  \n",
              "2            0.00  \n",
              "3            0.00  \n",
              "4            0.00  \n",
              "...           ...  \n",
              "1048570      0.00  \n",
              "1048571      0.00  \n",
              "1048572      0.00  \n",
              "1048573      0.50  \n",
              "1048574      0.00  \n",
              "\n",
              "[1048575 rows x 3 columns]"
            ],
            "text/html": [
              "\n",
              "  <div id=\"df-7c0b6ade-ac09-4e34-a6de-8b69c799a48c\">\n",
              "    <div class=\"colab-df-container\">\n",
              "      <div>\n",
              "<style scoped>\n",
              "    .dataframe tbody tr th:only-of-type {\n",
              "        vertical-align: middle;\n",
              "    }\n",
              "\n",
              "    .dataframe tbody tr th {\n",
              "        vertical-align: top;\n",
              "    }\n",
              "\n",
              "    .dataframe thead th {\n",
              "        text-align: right;\n",
              "    }\n",
              "</style>\n",
              "<table border=\"1\" class=\"dataframe\">\n",
              "  <thead>\n",
              "    <tr style=\"text-align: right;\">\n",
              "      <th></th>\n",
              "      <th>publish_date</th>\n",
              "      <th>headline</th>\n",
              "      <th>Polarity</th>\n",
              "    </tr>\n",
              "  </thead>\n",
              "  <tbody>\n",
              "    <tr>\n",
              "      <th>0</th>\n",
              "      <td>20030219</td>\n",
              "      <td>[ 'aba ' , 'decides ' , 'community ' , 'broadc...</td>\n",
              "      <td>0.00</td>\n",
              "    </tr>\n",
              "    <tr>\n",
              "      <th>1</th>\n",
              "      <td>20030219</td>\n",
              "      <td>[ 'act ' , 'fire ' , 'witnesses ' , 'must ' , ...</td>\n",
              "      <td>0.25</td>\n",
              "    </tr>\n",
              "    <tr>\n",
              "      <th>2</th>\n",
              "      <td>20030219</td>\n",
              "      <td>[ ' g ' , 'calls ' , 'infrastructure ' , 'prot...</td>\n",
              "      <td>0.00</td>\n",
              "    </tr>\n",
              "    <tr>\n",
              "      <th>3</th>\n",
              "      <td>20030219</td>\n",
              "      <td>[ 'air ' , 'nz ' , 'staff ' , 'aust ' , 'strik...</td>\n",
              "      <td>0.00</td>\n",
              "    </tr>\n",
              "    <tr>\n",
              "      <th>4</th>\n",
              "      <td>20030219</td>\n",
              "      <td>[ 'air ' , 'nz ' , 'strike ' , 'affect ' , 'au...</td>\n",
              "      <td>0.00</td>\n",
              "    </tr>\n",
              "    <tr>\n",
              "      <th>...</th>\n",
              "      <td>...</td>\n",
              "      <td>...</td>\n",
              "      <td>...</td>\n",
              "    </tr>\n",
              "    <tr>\n",
              "      <th>1048570</th>\n",
              "      <td>20160918</td>\n",
              "      <td>[ 'bill ' , 'de ' , 'blasio ' , 'evidence ' , ...</td>\n",
              "      <td>0.00</td>\n",
              "    </tr>\n",
              "    <tr>\n",
              "      <th>1048571</th>\n",
              "      <td>20160918</td>\n",
              "      <td>[ 'boyer ' , 'lectures ' , 'michael ' , 'marmo...</td>\n",
              "      <td>0.00</td>\n",
              "    </tr>\n",
              "    <tr>\n",
              "      <th>1048572</th>\n",
              "      <td>20160918</td>\n",
              "      <td>[ 'carnaby ' , 'cockatoo ' , 'revival ' , 'pro...</td>\n",
              "      <td>0.00</td>\n",
              "    </tr>\n",
              "    <tr>\n",
              "      <th>1048573</th>\n",
              "      <td>20160918</td>\n",
              "      <td>[ 'collier ' , 'convinced ' , 'colin ' , 'barn...</td>\n",
              "      <td>0.50</td>\n",
              "    </tr>\n",
              "    <tr>\n",
              "      <th>1048574</th>\n",
              "      <td>20160918</td>\n",
              "      <td>[ 'cowboys ' , 'offer ' , 'indigenous ' , 'kid...</td>\n",
              "      <td>0.00</td>\n",
              "    </tr>\n",
              "  </tbody>\n",
              "</table>\n",
              "<p>1048575 rows × 3 columns</p>\n",
              "</div>\n",
              "      <button class=\"colab-df-convert\" onclick=\"convertToInteractive('df-7c0b6ade-ac09-4e34-a6de-8b69c799a48c')\"\n",
              "              title=\"Convert this dataframe to an interactive table.\"\n",
              "              style=\"display:none;\">\n",
              "        \n",
              "  <svg xmlns=\"http://www.w3.org/2000/svg\" height=\"24px\"viewBox=\"0 0 24 24\"\n",
              "       width=\"24px\">\n",
              "    <path d=\"M0 0h24v24H0V0z\" fill=\"none\"/>\n",
              "    <path d=\"M18.56 5.44l.94 2.06.94-2.06 2.06-.94-2.06-.94-.94-2.06-.94 2.06-2.06.94zm-11 1L8.5 8.5l.94-2.06 2.06-.94-2.06-.94L8.5 2.5l-.94 2.06-2.06.94zm10 10l.94 2.06.94-2.06 2.06-.94-2.06-.94-.94-2.06-.94 2.06-2.06.94z\"/><path d=\"M17.41 7.96l-1.37-1.37c-.4-.4-.92-.59-1.43-.59-.52 0-1.04.2-1.43.59L10.3 9.45l-7.72 7.72c-.78.78-.78 2.05 0 2.83L4 21.41c.39.39.9.59 1.41.59.51 0 1.02-.2 1.41-.59l7.78-7.78 2.81-2.81c.8-.78.8-2.07 0-2.86zM5.41 20L4 18.59l7.72-7.72 1.47 1.35L5.41 20z\"/>\n",
              "  </svg>\n",
              "      </button>\n",
              "      \n",
              "  <style>\n",
              "    .colab-df-container {\n",
              "      display:flex;\n",
              "      flex-wrap:wrap;\n",
              "      gap: 12px;\n",
              "    }\n",
              "\n",
              "    .colab-df-convert {\n",
              "      background-color: #E8F0FE;\n",
              "      border: none;\n",
              "      border-radius: 50%;\n",
              "      cursor: pointer;\n",
              "      display: none;\n",
              "      fill: #1967D2;\n",
              "      height: 32px;\n",
              "      padding: 0 0 0 0;\n",
              "      width: 32px;\n",
              "    }\n",
              "\n",
              "    .colab-df-convert:hover {\n",
              "      background-color: #E2EBFA;\n",
              "      box-shadow: 0px 1px 2px rgba(60, 64, 67, 0.3), 0px 1px 3px 1px rgba(60, 64, 67, 0.15);\n",
              "      fill: #174EA6;\n",
              "    }\n",
              "\n",
              "    [theme=dark] .colab-df-convert {\n",
              "      background-color: #3B4455;\n",
              "      fill: #D2E3FC;\n",
              "    }\n",
              "\n",
              "    [theme=dark] .colab-df-convert:hover {\n",
              "      background-color: #434B5C;\n",
              "      box-shadow: 0px 1px 3px 1px rgba(0, 0, 0, 0.15);\n",
              "      filter: drop-shadow(0px 1px 2px rgba(0, 0, 0, 0.3));\n",
              "      fill: #FFFFFF;\n",
              "    }\n",
              "  </style>\n",
              "\n",
              "      <script>\n",
              "        const buttonEl =\n",
              "          document.querySelector('#df-7c0b6ade-ac09-4e34-a6de-8b69c799a48c button.colab-df-convert');\n",
              "        buttonEl.style.display =\n",
              "          google.colab.kernel.accessAllowed ? 'block' : 'none';\n",
              "\n",
              "        async function convertToInteractive(key) {\n",
              "          const element = document.querySelector('#df-7c0b6ade-ac09-4e34-a6de-8b69c799a48c');\n",
              "          const dataTable =\n",
              "            await google.colab.kernel.invokeFunction('convertToInteractive',\n",
              "                                                     [key], {});\n",
              "          if (!dataTable) return;\n",
              "\n",
              "          const docLinkHtml = 'Like what you see? Visit the ' +\n",
              "            '<a target=\"_blank\" href=https://colab.research.google.com/notebooks/data_table.ipynb>data table notebook</a>'\n",
              "            + ' to learn more about interactive tables.';\n",
              "          element.innerHTML = '';\n",
              "          dataTable['output_type'] = 'display_data';\n",
              "          await google.colab.output.renderOutput(dataTable, element);\n",
              "          const docLink = document.createElement('div');\n",
              "          docLink.innerHTML = docLinkHtml;\n",
              "          element.appendChild(docLink);\n",
              "        }\n",
              "      </script>\n",
              "    </div>\n",
              "  </div>\n",
              "  "
            ]
          },
          "metadata": {},
          "execution_count": 59
        }
      ]
    },
    {
      "cell_type": "code",
      "source": [
        "newsdata.to_csv('newssentimentdata.csv')"
      ],
      "metadata": {
        "id": "FNPeZC_Y_IZa"
      },
      "execution_count": null,
      "outputs": []
    },
    {
      "cell_type": "code",
      "source": [
        "# Generate sentiment based on polarity. \n",
        "def generate_sentiment(pol):\n",
        "    if pol==0:\n",
        "      sent=\"Neutral Sentiment\"\n",
        "    elif pol>0:\n",
        "      sent=\"Positve Sentiment\"    \n",
        "    else:\n",
        "      sent= \"Negative Sentiment\"\n",
        "    return sent      "
      ],
      "metadata": {
        "id": "H1baZACQA9ls"
      },
      "execution_count": null,
      "outputs": []
    },
    {
      "cell_type": "code",
      "source": [
        "newsdata['Sentiment']=newsdata['Polarity'].apply(generate_sentiment)\n",
        "newsdata['Sentiment']"
      ],
      "metadata": {
        "colab": {
          "base_uri": "https://localhost:8080/"
        },
        "id": "D09PnAc3EFVK",
        "outputId": "94914ad8-7001-47ae-b457-002f61ce9e54"
      },
      "execution_count": null,
      "outputs": [
        {
          "output_type": "execute_result",
          "data": {
            "text/plain": [
              "0          Neutral Sentiment\n",
              "1          Positve Sentiment\n",
              "2          Neutral Sentiment\n",
              "3          Neutral Sentiment\n",
              "4          Neutral Sentiment\n",
              "                 ...        \n",
              "1048570    Neutral Sentiment\n",
              "1048571    Neutral Sentiment\n",
              "1048572    Neutral Sentiment\n",
              "1048573    Positve Sentiment\n",
              "1048574    Neutral Sentiment\n",
              "Name: Sentiment, Length: 1048575, dtype: object"
            ]
          },
          "metadata": {},
          "execution_count": 76
        }
      ]
    },
    {
      "cell_type": "code",
      "source": [
        "sentiment_analysis=newsdata['Sentiment'].value_counts()\n",
        "print(sentiment_analysis)"
      ],
      "metadata": {
        "colab": {
          "base_uri": "https://localhost:8080/"
        },
        "id": "hO4zq0saFqNz",
        "outputId": "03b28c88-3bb4-4640-d859-b56cc67c3298"
      },
      "execution_count": null,
      "outputs": [
        {
          "output_type": "stream",
          "name": "stdout",
          "text": [
            "Neutral Sentiment     763081\n",
            "Positve Sentiment     161554\n",
            "Negative Sentiment    123940\n",
            "Name: Sentiment, dtype: int64\n"
          ]
        }
      ]
    },
    {
      "cell_type": "code",
      "source": [
        "newsdata"
      ],
      "metadata": {
        "colab": {
          "base_uri": "https://localhost:8080/",
          "height": 424
        },
        "id": "1olO1qN-F1HJ",
        "outputId": "3a6bd930-7442-4495-f6bb-474ecf140e6e"
      },
      "execution_count": null,
      "outputs": [
        {
          "output_type": "execute_result",
          "data": {
            "text/plain": [
              "         publish_date                                           headline  \\\n",
              "0            20030219  [ 'aba ' , 'decides ' , 'community ' , 'broadc...   \n",
              "1            20030219  [ 'act ' , 'fire ' , 'witnesses ' , 'must ' , ...   \n",
              "2            20030219  [ ' g ' , 'calls ' , 'infrastructure ' , 'prot...   \n",
              "3            20030219  [ 'air ' , 'nz ' , 'staff ' , 'aust ' , 'strik...   \n",
              "4            20030219  [ 'air ' , 'nz ' , 'strike ' , 'affect ' , 'au...   \n",
              "...               ...                                                ...   \n",
              "1048570      20160918  [ 'bill ' , 'de ' , 'blasio ' , 'evidence ' , ...   \n",
              "1048571      20160918  [ 'boyer ' , 'lectures ' , 'michael ' , 'marmo...   \n",
              "1048572      20160918  [ 'carnaby ' , 'cockatoo ' , 'revival ' , 'pro...   \n",
              "1048573      20160918  [ 'collier ' , 'convinced ' , 'colin ' , 'barn...   \n",
              "1048574      20160918  [ 'cowboys ' , 'offer ' , 'indigenous ' , 'kid...   \n",
              "\n",
              "         Polarity          Sentiment  \n",
              "0            0.00  Neutral Sentiment  \n",
              "1            0.25  Positve Sentiment  \n",
              "2            0.00  Neutral Sentiment  \n",
              "3            0.00  Neutral Sentiment  \n",
              "4            0.00  Neutral Sentiment  \n",
              "...           ...                ...  \n",
              "1048570      0.00  Neutral Sentiment  \n",
              "1048571      0.00  Neutral Sentiment  \n",
              "1048572      0.00  Neutral Sentiment  \n",
              "1048573      0.50  Positve Sentiment  \n",
              "1048574      0.00  Neutral Sentiment  \n",
              "\n",
              "[1048575 rows x 4 columns]"
            ],
            "text/html": [
              "\n",
              "  <div id=\"df-c03cde13-d337-4570-bc97-f9fba0433b62\">\n",
              "    <div class=\"colab-df-container\">\n",
              "      <div>\n",
              "<style scoped>\n",
              "    .dataframe tbody tr th:only-of-type {\n",
              "        vertical-align: middle;\n",
              "    }\n",
              "\n",
              "    .dataframe tbody tr th {\n",
              "        vertical-align: top;\n",
              "    }\n",
              "\n",
              "    .dataframe thead th {\n",
              "        text-align: right;\n",
              "    }\n",
              "</style>\n",
              "<table border=\"1\" class=\"dataframe\">\n",
              "  <thead>\n",
              "    <tr style=\"text-align: right;\">\n",
              "      <th></th>\n",
              "      <th>publish_date</th>\n",
              "      <th>headline</th>\n",
              "      <th>Polarity</th>\n",
              "      <th>Sentiment</th>\n",
              "    </tr>\n",
              "  </thead>\n",
              "  <tbody>\n",
              "    <tr>\n",
              "      <th>0</th>\n",
              "      <td>20030219</td>\n",
              "      <td>[ 'aba ' , 'decides ' , 'community ' , 'broadc...</td>\n",
              "      <td>0.00</td>\n",
              "      <td>Neutral Sentiment</td>\n",
              "    </tr>\n",
              "    <tr>\n",
              "      <th>1</th>\n",
              "      <td>20030219</td>\n",
              "      <td>[ 'act ' , 'fire ' , 'witnesses ' , 'must ' , ...</td>\n",
              "      <td>0.25</td>\n",
              "      <td>Positve Sentiment</td>\n",
              "    </tr>\n",
              "    <tr>\n",
              "      <th>2</th>\n",
              "      <td>20030219</td>\n",
              "      <td>[ ' g ' , 'calls ' , 'infrastructure ' , 'prot...</td>\n",
              "      <td>0.00</td>\n",
              "      <td>Neutral Sentiment</td>\n",
              "    </tr>\n",
              "    <tr>\n",
              "      <th>3</th>\n",
              "      <td>20030219</td>\n",
              "      <td>[ 'air ' , 'nz ' , 'staff ' , 'aust ' , 'strik...</td>\n",
              "      <td>0.00</td>\n",
              "      <td>Neutral Sentiment</td>\n",
              "    </tr>\n",
              "    <tr>\n",
              "      <th>4</th>\n",
              "      <td>20030219</td>\n",
              "      <td>[ 'air ' , 'nz ' , 'strike ' , 'affect ' , 'au...</td>\n",
              "      <td>0.00</td>\n",
              "      <td>Neutral Sentiment</td>\n",
              "    </tr>\n",
              "    <tr>\n",
              "      <th>...</th>\n",
              "      <td>...</td>\n",
              "      <td>...</td>\n",
              "      <td>...</td>\n",
              "      <td>...</td>\n",
              "    </tr>\n",
              "    <tr>\n",
              "      <th>1048570</th>\n",
              "      <td>20160918</td>\n",
              "      <td>[ 'bill ' , 'de ' , 'blasio ' , 'evidence ' , ...</td>\n",
              "      <td>0.00</td>\n",
              "      <td>Neutral Sentiment</td>\n",
              "    </tr>\n",
              "    <tr>\n",
              "      <th>1048571</th>\n",
              "      <td>20160918</td>\n",
              "      <td>[ 'boyer ' , 'lectures ' , 'michael ' , 'marmo...</td>\n",
              "      <td>0.00</td>\n",
              "      <td>Neutral Sentiment</td>\n",
              "    </tr>\n",
              "    <tr>\n",
              "      <th>1048572</th>\n",
              "      <td>20160918</td>\n",
              "      <td>[ 'carnaby ' , 'cockatoo ' , 'revival ' , 'pro...</td>\n",
              "      <td>0.00</td>\n",
              "      <td>Neutral Sentiment</td>\n",
              "    </tr>\n",
              "    <tr>\n",
              "      <th>1048573</th>\n",
              "      <td>20160918</td>\n",
              "      <td>[ 'collier ' , 'convinced ' , 'colin ' , 'barn...</td>\n",
              "      <td>0.50</td>\n",
              "      <td>Positve Sentiment</td>\n",
              "    </tr>\n",
              "    <tr>\n",
              "      <th>1048574</th>\n",
              "      <td>20160918</td>\n",
              "      <td>[ 'cowboys ' , 'offer ' , 'indigenous ' , 'kid...</td>\n",
              "      <td>0.00</td>\n",
              "      <td>Neutral Sentiment</td>\n",
              "    </tr>\n",
              "  </tbody>\n",
              "</table>\n",
              "<p>1048575 rows × 4 columns</p>\n",
              "</div>\n",
              "      <button class=\"colab-df-convert\" onclick=\"convertToInteractive('df-c03cde13-d337-4570-bc97-f9fba0433b62')\"\n",
              "              title=\"Convert this dataframe to an interactive table.\"\n",
              "              style=\"display:none;\">\n",
              "        \n",
              "  <svg xmlns=\"http://www.w3.org/2000/svg\" height=\"24px\"viewBox=\"0 0 24 24\"\n",
              "       width=\"24px\">\n",
              "    <path d=\"M0 0h24v24H0V0z\" fill=\"none\"/>\n",
              "    <path d=\"M18.56 5.44l.94 2.06.94-2.06 2.06-.94-2.06-.94-.94-2.06-.94 2.06-2.06.94zm-11 1L8.5 8.5l.94-2.06 2.06-.94-2.06-.94L8.5 2.5l-.94 2.06-2.06.94zm10 10l.94 2.06.94-2.06 2.06-.94-2.06-.94-.94-2.06-.94 2.06-2.06.94z\"/><path d=\"M17.41 7.96l-1.37-1.37c-.4-.4-.92-.59-1.43-.59-.52 0-1.04.2-1.43.59L10.3 9.45l-7.72 7.72c-.78.78-.78 2.05 0 2.83L4 21.41c.39.39.9.59 1.41.59.51 0 1.02-.2 1.41-.59l7.78-7.78 2.81-2.81c.8-.78.8-2.07 0-2.86zM5.41 20L4 18.59l7.72-7.72 1.47 1.35L5.41 20z\"/>\n",
              "  </svg>\n",
              "      </button>\n",
              "      \n",
              "  <style>\n",
              "    .colab-df-container {\n",
              "      display:flex;\n",
              "      flex-wrap:wrap;\n",
              "      gap: 12px;\n",
              "    }\n",
              "\n",
              "    .colab-df-convert {\n",
              "      background-color: #E8F0FE;\n",
              "      border: none;\n",
              "      border-radius: 50%;\n",
              "      cursor: pointer;\n",
              "      display: none;\n",
              "      fill: #1967D2;\n",
              "      height: 32px;\n",
              "      padding: 0 0 0 0;\n",
              "      width: 32px;\n",
              "    }\n",
              "\n",
              "    .colab-df-convert:hover {\n",
              "      background-color: #E2EBFA;\n",
              "      box-shadow: 0px 1px 2px rgba(60, 64, 67, 0.3), 0px 1px 3px 1px rgba(60, 64, 67, 0.15);\n",
              "      fill: #174EA6;\n",
              "    }\n",
              "\n",
              "    [theme=dark] .colab-df-convert {\n",
              "      background-color: #3B4455;\n",
              "      fill: #D2E3FC;\n",
              "    }\n",
              "\n",
              "    [theme=dark] .colab-df-convert:hover {\n",
              "      background-color: #434B5C;\n",
              "      box-shadow: 0px 1px 3px 1px rgba(0, 0, 0, 0.15);\n",
              "      filter: drop-shadow(0px 1px 2px rgba(0, 0, 0, 0.3));\n",
              "      fill: #FFFFFF;\n",
              "    }\n",
              "  </style>\n",
              "\n",
              "      <script>\n",
              "        const buttonEl =\n",
              "          document.querySelector('#df-c03cde13-d337-4570-bc97-f9fba0433b62 button.colab-df-convert');\n",
              "        buttonEl.style.display =\n",
              "          google.colab.kernel.accessAllowed ? 'block' : 'none';\n",
              "\n",
              "        async function convertToInteractive(key) {\n",
              "          const element = document.querySelector('#df-c03cde13-d337-4570-bc97-f9fba0433b62');\n",
              "          const dataTable =\n",
              "            await google.colab.kernel.invokeFunction('convertToInteractive',\n",
              "                                                     [key], {});\n",
              "          if (!dataTable) return;\n",
              "\n",
              "          const docLinkHtml = 'Like what you see? Visit the ' +\n",
              "            '<a target=\"_blank\" href=https://colab.research.google.com/notebooks/data_table.ipynb>data table notebook</a>'\n",
              "            + ' to learn more about interactive tables.';\n",
              "          element.innerHTML = '';\n",
              "          dataTable['output_type'] = 'display_data';\n",
              "          await google.colab.output.renderOutput(dataTable, element);\n",
              "          const docLink = document.createElement('div');\n",
              "          docLink.innerHTML = docLinkHtml;\n",
              "          element.appendChild(docLink);\n",
              "        }\n",
              "      </script>\n",
              "    </div>\n",
              "  </div>\n",
              "  "
            ]
          },
          "metadata": {},
          "execution_count": 78
        }
      ]
    },
    {
      "cell_type": "markdown",
      "source": [
        "### Sentiments has been generated to the unlabelled news headlines dataset"
      ],
      "metadata": {
        "id": "h22sjeHaO79N"
      }
    },
    {
      "cell_type": "code",
      "source": [
        "Labels='Neutral Sentiment','Positve Sentiment','Negative Sentiment'\n",
        "plt.pie(sentiment_analysis,labels=Labels,autopct='%1.1f%%')\n",
        "plt.show()"
      ],
      "metadata": {
        "colab": {
          "base_uri": "https://localhost:8080/",
          "height": 248
        },
        "id": "GdPBDKOhHe4M",
        "outputId": "fafec888-5b06-4aec-da53-1c1a71a97770"
      },
      "execution_count": null,
      "outputs": [
        {
          "output_type": "display_data",
          "data": {
            "text/plain": [
              "<Figure size 432x288 with 1 Axes>"
            ],
            "image/png": "[encoded data removed]"
          },
          "metadata": {}
        }
      ]
    },
    {
      "cell_type": "markdown",
      "source": [
        "# Twitter Dataset"
      ],
      "metadata": {
        "id": "D08xlFOmPQQG"
      }
    },
    {
      "cell_type": "markdown",
      "source": [
        "## Text Data Preprocessing"
      ],
      "metadata": {
        "id": "pvDtfW8UVcZJ"
      }
    },
    {
      "cell_type": "code",
      "source": [
        "# Load the Twitter datadset\n",
        "tweets=pd.read_csv(\"twitter_training.csv\",names=('ID','Brand','Sentiment','Phrase'),nrows=20000)"
      ],
      "metadata": {
        "id": "u1muHp-oVfGb"
      },
      "execution_count": 147,
      "outputs": []
    },
    {
      "cell_type": "code",
      "source": [
        "tweets.tail()"
      ],
      "metadata": {
        "colab": {
          "base_uri": "https://localhost:8080/",
          "height": 206
        },
        "id": "j7hUZNWNWcWX",
        "outputId": "aff39bdd-b0fb-488d-fc63-fe8e14b803ea"
      },
      "execution_count": 148,
      "outputs": [
        {
          "output_type": "execute_result",
          "data": {
            "text/plain": [
              "          ID         Brand Sentiment  \\\n",
              "19995  12623  WorldOfCraft   Neutral   \n",
              "19996  12623  WorldOfCraft   Neutral   \n",
              "19997  12623  WorldOfCraft   Neutral   \n",
              "19998  12624  WorldOfCraft  Positive   \n",
              "19999  12624  WorldOfCraft  Positive   \n",
              "\n",
              "                                                  Phrase  \n",
              "19995  Felt like making a solo character! A high elf ...  \n",
              "19996  That Felt like my making quite a brand new cha...  \n",
              "19997  Felt like being a quirky character! That wild ...  \n",
              "19998                       Ridiculous, but fantastic.    \n",
              "19999                         Ridiculous, but fantastic.  "
            ],
            "text/html": [
              "\n",
              "  <div id=\"df-8edae909-6475-4a70-befc-aeb8ad66e519\">\n",
              "    <div class=\"colab-df-container\">\n",
              "      <div>\n",
              "<style scoped>\n",
              "    .dataframe tbody tr th:only-of-type {\n",
              "        vertical-align: middle;\n",
              "    }\n",
              "\n",
              "    .dataframe tbody tr th {\n",
              "        vertical-align: top;\n",
              "    }\n",
              "\n",
              "    .dataframe thead th {\n",
              "        text-align: right;\n",
              "    }\n",
              "</style>\n",
              "<table border=\"1\" class=\"dataframe\">\n",
              "  <thead>\n",
              "    <tr style=\"text-align: right;\">\n",
              "      <th></th>\n",
              "      <th>ID</th>\n",
              "      <th>Brand</th>\n",
              "      <th>Sentiment</th>\n",
              "      <th>Phrase</th>\n",
              "    </tr>\n",
              "  </thead>\n",
              "  <tbody>\n",
              "    <tr>\n",
              "      <th>19995</th>\n",
              "      <td>12623</td>\n",
              "      <td>WorldOfCraft</td>\n",
              "      <td>Neutral</td>\n",
              "      <td>Felt like making a solo character! A high elf ...</td>\n",
              "    </tr>\n",
              "    <tr>\n",
              "      <th>19996</th>\n",
              "      <td>12623</td>\n",
              "      <td>WorldOfCraft</td>\n",
              "      <td>Neutral</td>\n",
              "      <td>That Felt like my making quite a brand new cha...</td>\n",
              "    </tr>\n",
              "    <tr>\n",
              "      <th>19997</th>\n",
              "      <td>12623</td>\n",
              "      <td>WorldOfCraft</td>\n",
              "      <td>Neutral</td>\n",
              "      <td>Felt like being a quirky character! That wild ...</td>\n",
              "    </tr>\n",
              "    <tr>\n",
              "      <th>19998</th>\n",
              "      <td>12624</td>\n",
              "      <td>WorldOfCraft</td>\n",
              "      <td>Positive</td>\n",
              "      <td>Ridiculous, but fantastic.</td>\n",
              "    </tr>\n",
              "    <tr>\n",
              "      <th>19999</th>\n",
              "      <td>12624</td>\n",
              "      <td>WorldOfCraft</td>\n",
              "      <td>Positive</td>\n",
              "      <td>Ridiculous, but fantastic.</td>\n",
              "    </tr>\n",
              "  </tbody>\n",
              "</table>\n",
              "</div>\n",
              "      <button class=\"colab-df-convert\" onclick=\"convertToInteractive('df-8edae909-6475-4a70-befc-aeb8ad66e519')\"\n",
              "              title=\"Convert this dataframe to an interactive table.\"\n",
              "              style=\"display:none;\">\n",
              "        \n",
              "  <svg xmlns=\"http://www.w3.org/2000/svg\" height=\"24px\"viewBox=\"0 0 24 24\"\n",
              "       width=\"24px\">\n",
              "    <path d=\"M0 0h24v24H0V0z\" fill=\"none\"/>\n",
              "    <path d=\"M18.56 5.44l.94 2.06.94-2.06 2.06-.94-2.06-.94-.94-2.06-.94 2.06-2.06.94zm-11 1L8.5 8.5l.94-2.06 2.06-.94-2.06-.94L8.5 2.5l-.94 2.06-2.06.94zm10 10l.94 2.06.94-2.06 2.06-.94-2.06-.94-.94-2.06-.94 2.06-2.06.94z\"/><path d=\"M17.41 7.96l-1.37-1.37c-.4-.4-.92-.59-1.43-.59-.52 0-1.04.2-1.43.59L10.3 9.45l-7.72 7.72c-.78.78-.78 2.05 0 2.83L4 21.41c.39.39.9.59 1.41.59.51 0 1.02-.2 1.41-.59l7.78-7.78 2.81-2.81c.8-.78.8-2.07 0-2.86zM5.41 20L4 18.59l7.72-7.72 1.47 1.35L5.41 20z\"/>\n",
              "  </svg>\n",
              "      </button>\n",
              "      \n",
              "  <style>\n",
              "    .colab-df-container {\n",
              "      display:flex;\n",
              "      flex-wrap:wrap;\n",
              "      gap: 12px;\n",
              "    }\n",
              "\n",
              "    .colab-df-convert {\n",
              "      background-color: #E8F0FE;\n",
              "      border: none;\n",
              "      border-radius: 50%;\n",
              "      cursor: pointer;\n",
              "      display: none;\n",
              "      fill: #1967D2;\n",
              "      height: 32px;\n",
              "      padding: 0 0 0 0;\n",
              "      width: 32px;\n",
              "    }\n",
              "\n",
              "    .colab-df-convert:hover {\n",
              "      background-color: #E2EBFA;\n",
              "      box-shadow: 0px 1px 2px rgba(60, 64, 67, 0.3), 0px 1px 3px 1px rgba(60, 64, 67, 0.15);\n",
              "      fill: #174EA6;\n",
              "    }\n",
              "\n",
              "    [theme=dark] .colab-df-convert {\n",
              "      background-color: #3B4455;\n",
              "      fill: #D2E3FC;\n",
              "    }\n",
              "\n",
              "    [theme=dark] .colab-df-convert:hover {\n",
              "      background-color: #434B5C;\n",
              "      box-shadow: 0px 1px 3px 1px rgba(0, 0, 0, 0.15);\n",
              "      filter: drop-shadow(0px 1px 2px rgba(0, 0, 0, 0.3));\n",
              "      fill: #FFFFFF;\n",
              "    }\n",
              "  </style>\n",
              "\n",
              "      <script>\n",
              "        const buttonEl =\n",
              "          document.querySelector('#df-8edae909-6475-4a70-befc-aeb8ad66e519 button.colab-df-convert');\n",
              "        buttonEl.style.display =\n",
              "          google.colab.kernel.accessAllowed ? 'block' : 'none';\n",
              "\n",
              "        async function convertToInteractive(key) {\n",
              "          const element = document.querySelector('#df-8edae909-6475-4a70-befc-aeb8ad66e519');\n",
              "          const dataTable =\n",
              "            await google.colab.kernel.invokeFunction('convertToInteractive',\n",
              "                                                     [key], {});\n",
              "          if (!dataTable) return;\n",
              "\n",
              "          const docLinkHtml = 'Like what you see? Visit the ' +\n",
              "            '<a target=\"_blank\" href=https://colab.research.google.com/notebooks/data_table.ipynb>data table notebook</a>'\n",
              "            + ' to learn more about interactive tables.';\n",
              "          element.innerHTML = '';\n",
              "          dataTable['output_type'] = 'display_data';\n",
              "          await google.colab.output.renderOutput(dataTable, element);\n",
              "          const docLink = document.createElement('div');\n",
              "          docLink.innerHTML = docLinkHtml;\n",
              "          element.appendChild(docLink);\n",
              "        }\n",
              "      </script>\n",
              "    </div>\n",
              "  </div>\n",
              "  "
            ]
          },
          "metadata": {},
          "execution_count": 148
        }
      ]
    },
    {
      "cell_type": "code",
      "source": [
        "# Delete columns 'ID' and 'Brand' as these columns will not add value to the model\n",
        "tweets.drop(['ID', 'Brand'], axis=1, inplace=True)\n",
        "tweets"
      ],
      "metadata": {
        "colab": {
          "base_uri": "https://localhost:8080/",
          "height": 424
        },
        "id": "zA_KlAubaIUH",
        "outputId": "b4b76318-307c-4dbd-902b-f9336353505a"
      },
      "execution_count": 149,
      "outputs": [
        {
          "output_type": "execute_result",
          "data": {
            "text/plain": [
              "      Sentiment                                             Phrase\n",
              "0      Positive  im getting on borderlands and i will murder yo...\n",
              "1      Positive  I am coming to the borders and I will kill you...\n",
              "2      Positive  im getting on borderlands and i will kill you ...\n",
              "3      Positive  im coming on borderlands and i will murder you...\n",
              "4      Positive  im getting on borderlands 2 and i will murder ...\n",
              "...         ...                                                ...\n",
              "19995   Neutral  Felt like making a solo character! A high elf ...\n",
              "19996   Neutral  That Felt like my making quite a brand new cha...\n",
              "19997   Neutral  Felt like being a quirky character! That wild ...\n",
              "19998  Positive                       Ridiculous, but fantastic.  \n",
              "19999  Positive                         Ridiculous, but fantastic.\n",
              "\n",
              "[20000 rows x 2 columns]"
            ],
            "text/html": [
              "\n",
              "  <div id=\"df-f2a4fc69-1fb1-42f9-ba60-e29b92ae7dca\">\n",
              "    <div class=\"colab-df-container\">\n",
              "      <div>\n",
              "<style scoped>\n",
              "    .dataframe tbody tr th:only-of-type {\n",
              "        vertical-align: middle;\n",
              "    }\n",
              "\n",
              "    .dataframe tbody tr th {\n",
              "        vertical-align: top;\n",
              "    }\n",
              "\n",
              "    .dataframe thead th {\n",
              "        text-align: right;\n",
              "    }\n",
              "</style>\n",
              "<table border=\"1\" class=\"dataframe\">\n",
              "  <thead>\n",
              "    <tr style=\"text-align: right;\">\n",
              "      <th></th>\n",
              "      <th>Sentiment</th>\n",
              "      <th>Phrase</th>\n",
              "    </tr>\n",
              "  </thead>\n",
              "  <tbody>\n",
              "    <tr>\n",
              "      <th>0</th>\n",
              "      <td>Positive</td>\n",
              "      <td>im getting on borderlands and i will murder yo...</td>\n",
              "    </tr>\n",
              "    <tr>\n",
              "      <th>1</th>\n",
              "      <td>Positive</td>\n",
              "      <td>I am coming to the borders and I will kill you...</td>\n",
              "    </tr>\n",
              "    <tr>\n",
              "      <th>2</th>\n",
              "      <td>Positive</td>\n",
              "      <td>im getting on borderlands and i will kill you ...</td>\n",
              "    </tr>\n",
              "    <tr>\n",
              "      <th>3</th>\n",
              "      <td>Positive</td>\n",
              "      <td>im coming on borderlands and i will murder you...</td>\n",
              "    </tr>\n",
              "    <tr>\n",
              "      <th>4</th>\n",
              "      <td>Positive</td>\n",
              "      <td>im getting on borderlands 2 and i will murder ...</td>\n",
              "    </tr>\n",
              "    <tr>\n",
              "      <th>...</th>\n",
              "      <td>...</td>\n",
              "      <td>...</td>\n",
              "    </tr>\n",
              "    <tr>\n",
              "      <th>19995</th>\n",
              "      <td>Neutral</td>\n",
              "      <td>Felt like making a solo character! A high elf ...</td>\n",
              "    </tr>\n",
              "    <tr>\n",
              "      <th>19996</th>\n",
              "      <td>Neutral</td>\n",
              "      <td>That Felt like my making quite a brand new cha...</td>\n",
              "    </tr>\n",
              "    <tr>\n",
              "      <th>19997</th>\n",
              "      <td>Neutral</td>\n",
              "      <td>Felt like being a quirky character! That wild ...</td>\n",
              "    </tr>\n",
              "    <tr>\n",
              "      <th>19998</th>\n",
              "      <td>Positive</td>\n",
              "      <td>Ridiculous, but fantastic.</td>\n",
              "    </tr>\n",
              "    <tr>\n",
              "      <th>19999</th>\n",
              "      <td>Positive</td>\n",
              "      <td>Ridiculous, but fantastic.</td>\n",
              "    </tr>\n",
              "  </tbody>\n",
              "</table>\n",
              "<p>20000 rows × 2 columns</p>\n",
              "</div>\n",
              "      <button class=\"colab-df-convert\" onclick=\"convertToInteractive('df-f2a4fc69-1fb1-42f9-ba60-e29b92ae7dca')\"\n",
              "              title=\"Convert this dataframe to an interactive table.\"\n",
              "              style=\"display:none;\">\n",
              "        \n",
              "  <svg xmlns=\"http://www.w3.org/2000/svg\" height=\"24px\"viewBox=\"0 0 24 24\"\n",
              "       width=\"24px\">\n",
              "    <path d=\"M0 0h24v24H0V0z\" fill=\"none\"/>\n",
              "    <path d=\"M18.56 5.44l.94 2.06.94-2.06 2.06-.94-2.06-.94-.94-2.06-.94 2.06-2.06.94zm-11 1L8.5 8.5l.94-2.06 2.06-.94-2.06-.94L8.5 2.5l-.94 2.06-2.06.94zm10 10l.94 2.06.94-2.06 2.06-.94-2.06-.94-.94-2.06-.94 2.06-2.06.94z\"/><path d=\"M17.41 7.96l-1.37-1.37c-.4-.4-.92-.59-1.43-.59-.52 0-1.04.2-1.43.59L10.3 9.45l-7.72 7.72c-.78.78-.78 2.05 0 2.83L4 21.41c.39.39.9.59 1.41.59.51 0 1.02-.2 1.41-.59l7.78-7.78 2.81-2.81c.8-.78.8-2.07 0-2.86zM5.41 20L4 18.59l7.72-7.72 1.47 1.35L5.41 20z\"/>\n",
              "  </svg>\n",
              "      </button>\n",
              "      \n",
              "  <style>\n",
              "    .colab-df-container {\n",
              "      display:flex;\n",
              "      flex-wrap:wrap;\n",
              "      gap: 12px;\n",
              "    }\n",
              "\n",
              "    .colab-df-convert {\n",
              "      background-color: #E8F0FE;\n",
              "      border: none;\n",
              "      border-radius: 50%;\n",
              "      cursor: pointer;\n",
              "      display: none;\n",
              "      fill: #1967D2;\n",
              "      height: 32px;\n",
              "      padding: 0 0 0 0;\n",
              "      width: 32px;\n",
              "    }\n",
              "\n",
              "    .colab-df-convert:hover {\n",
              "      background-color: #E2EBFA;\n",
              "      box-shadow: 0px 1px 2px rgba(60, 64, 67, 0.3), 0px 1px 3px 1px rgba(60, 64, 67, 0.15);\n",
              "      fill: #174EA6;\n",
              "    }\n",
              "\n",
              "    [theme=dark] .colab-df-convert {\n",
              "      background-color: #3B4455;\n",
              "      fill: #D2E3FC;\n",
              "    }\n",
              "\n",
              "    [theme=dark] .colab-df-convert:hover {\n",
              "      background-color: #434B5C;\n",
              "      box-shadow: 0px 1px 3px 1px rgba(0, 0, 0, 0.15);\n",
              "      filter: drop-shadow(0px 1px 2px rgba(0, 0, 0, 0.3));\n",
              "      fill: #FFFFFF;\n",
              "    }\n",
              "  </style>\n",
              "\n",
              "      <script>\n",
              "        const buttonEl =\n",
              "          document.querySelector('#df-f2a4fc69-1fb1-42f9-ba60-e29b92ae7dca button.colab-df-convert');\n",
              "        buttonEl.style.display =\n",
              "          google.colab.kernel.accessAllowed ? 'block' : 'none';\n",
              "\n",
              "        async function convertToInteractive(key) {\n",
              "          const element = document.querySelector('#df-f2a4fc69-1fb1-42f9-ba60-e29b92ae7dca');\n",
              "          const dataTable =\n",
              "            await google.colab.kernel.invokeFunction('convertToInteractive',\n",
              "                                                     [key], {});\n",
              "          if (!dataTable) return;\n",
              "\n",
              "          const docLinkHtml = 'Like what you see? Visit the ' +\n",
              "            '<a target=\"_blank\" href=https://colab.research.google.com/notebooks/data_table.ipynb>data table notebook</a>'\n",
              "            + ' to learn more about interactive tables.';\n",
              "          element.innerHTML = '';\n",
              "          dataTable['output_type'] = 'display_data';\n",
              "          await google.colab.output.renderOutput(dataTable, element);\n",
              "          const docLink = document.createElement('div');\n",
              "          docLink.innerHTML = docLinkHtml;\n",
              "          element.appendChild(docLink);\n",
              "        }\n",
              "      </script>\n",
              "    </div>\n",
              "  </div>\n",
              "  "
            ]
          },
          "metadata": {},
          "execution_count": 149
        }
      ]
    },
    {
      "cell_type": "code",
      "source": [
        "tweets['Sentiment'].value_counts()"
      ],
      "metadata": {
        "colab": {
          "base_uri": "https://localhost:8080/"
        },
        "id": "x9ejgxLOjjEY",
        "outputId": "f91dd863-ad93-4b90-a250-5bd792338aa8"
      },
      "execution_count": 150,
      "outputs": [
        {
          "output_type": "execute_result",
          "data": {
            "text/plain": [
              "Positive      6104\n",
              "Negative      5448\n",
              "Neutral       4896\n",
              "Irrelevant    3552\n",
              "Name: Sentiment, dtype: int64"
            ]
          },
          "metadata": {},
          "execution_count": 150
        }
      ]
    },
    {
      "cell_type": "code",
      "source": [
        "# The value 'Irrelevant' is not a valid sentiment type hence the rows with value 'Irrelevant' can be deleted as it is a outlier\n",
        "tweets = tweets[tweets.Sentiment != 'Irrelevant']\n",
        "tweets['Sentiment'].value_counts()"
      ],
      "metadata": {
        "colab": {
          "base_uri": "https://localhost:8080/"
        },
        "id": "l5wrYvF0jh9s",
        "outputId": "3746ba31-44bc-4838-a620-2639a53d52c1"
      },
      "execution_count": 151,
      "outputs": [
        {
          "output_type": "execute_result",
          "data": {
            "text/plain": [
              "Positive    6104\n",
              "Negative    5448\n",
              "Neutral     4896\n",
              "Name: Sentiment, dtype: int64"
            ]
          },
          "metadata": {},
          "execution_count": 151
        }
      ]
    },
    {
      "cell_type": "code",
      "source": [
        "# check for null values in the dataset\n",
        "tweets.isnull().sum()"
      ],
      "metadata": {
        "colab": {
          "base_uri": "https://localhost:8080/"
        },
        "id": "k-9H9IsKdcv0",
        "outputId": "64e9c7fd-e09a-430d-b9dd-ef9450189d24"
      },
      "execution_count": 152,
      "outputs": [
        {
          "output_type": "execute_result",
          "data": {
            "text/plain": [
              "Sentiment      0\n",
              "Phrase       127\n",
              "dtype: int64"
            ]
          },
          "metadata": {},
          "execution_count": 152
        }
      ]
    },
    {
      "cell_type": "code",
      "source": [
        "# Delete null values in the dataset\n",
        "tweets=tweets.dropna()\n",
        "tweets.isnull().sum()"
      ],
      "metadata": {
        "colab": {
          "base_uri": "https://localhost:8080/"
        },
        "id": "YX53NUaVd7Dz",
        "outputId": "f9820308-1fb6-484e-88da-6bfc893411c0"
      },
      "execution_count": 153,
      "outputs": [
        {
          "output_type": "execute_result",
          "data": {
            "text/plain": [
              "Sentiment    0\n",
              "Phrase       0\n",
              "dtype: int64"
            ]
          },
          "metadata": {},
          "execution_count": 153
        }
      ]
    },
    {
      "cell_type": "code",
      "source": [
        "tweets['Sentiment']"
      ],
      "metadata": {
        "colab": {
          "base_uri": "https://localhost:8080/"
        },
        "id": "-EkSEasueFjM",
        "outputId": "55910e9b-5e54-4102-9084-400ca99acc34"
      },
      "execution_count": 154,
      "outputs": [
        {
          "output_type": "execute_result",
          "data": {
            "text/plain": [
              "0        Positive\n",
              "1        Positive\n",
              "2        Positive\n",
              "3        Positive\n",
              "4        Positive\n",
              "           ...   \n",
              "19995     Neutral\n",
              "19996     Neutral\n",
              "19997     Neutral\n",
              "19998    Positive\n",
              "19999    Positive\n",
              "Name: Sentiment, Length: 16321, dtype: object"
            ]
          },
          "metadata": {},
          "execution_count": 154
        }
      ]
    },
    {
      "cell_type": "code",
      "source": [
        "# First lets remove Punctuations from the Reviews\n",
        "def punctuation_removal(messy_str):\n",
        "    clean_list = [char for char in messy_str if char not in string.punctuation]\n",
        "    clean_str = ''.join(clean_list)\n",
        "    return clean_str\n",
        "\n",
        "tweets['Phrase'] = tweets['Phrase'].apply(punctuation_removal)\n",
        "tweets['Phrase']"
      ],
      "metadata": {
        "id": "L5mXVFSiegVk",
        "colab": {
          "base_uri": "https://localhost:8080/"
        },
        "outputId": "735b3a3d-2dfd-493f-a549-ceb55b547d59"
      },
      "execution_count": 155,
      "outputs": [
        {
          "output_type": "execute_result",
          "data": {
            "text/plain": [
              "0        im getting on borderlands and i will murder yo...\n",
              "1        I am coming to the borders and I will kill you...\n",
              "2        im getting on borderlands and i will kill you all\n",
              "3        im coming on borderlands and i will murder you...\n",
              "4        im getting on borderlands 2 and i will murder ...\n",
              "                               ...                        \n",
              "19995    Felt like making a solo character A high elf w...\n",
              "19996    That Felt like my making quite a brand new cha...\n",
              "19997    Felt like being a quirky character That wild e...\n",
              "19998                           Ridiculous but fantastic  \n",
              "19999                             Ridiculous but fantastic\n",
              "Name: Phrase, Length: 16321, dtype: object"
            ]
          },
          "metadata": {},
          "execution_count": 155
        }
      ]
    },
    {
      "cell_type": "code",
      "source": [
        "# Now lets Remove the Stopwords also\n",
        "\n",
        "import nltk\n",
        "nltk.download('stopwords')\n",
        "nltk.download('punkt')\n",
        "\n",
        "from nltk.corpus import stopwords\n",
        "from nltk.tokenize import word_tokenize\n",
        "\n",
        "stop=stopwords.words('english')\n",
        "stop.append(\"i'm\")\n",
        "\n",
        "stop_words = []\n",
        "\n",
        "for item in stop: \n",
        "    new_item = punctuation_removal(item)\n",
        "    stop_words.append(new_item) \n",
        "\n",
        "def stopwords_removal(messy_str):\n",
        "    messy_str = word_tokenize(messy_str)\n",
        "    return [word.lower() for word in messy_str \n",
        "            if word.lower() not in stop_words ]\n",
        "\n",
        "tweets['Phrase'] = tweets['Phrase'].apply(stopwords_removal)\n",
        "tweets['Phrase']"
      ],
      "metadata": {
        "colab": {
          "base_uri": "https://localhost:8080/"
        },
        "id": "e7OKX59We5IA",
        "outputId": "0c58b838-541e-4cf5-c56d-ebcb6933771e"
      },
      "execution_count": 156,
      "outputs": [
        {
          "output_type": "stream",
          "name": "stderr",
          "text": [
            "[nltk_data] Downloading package stopwords to /root/nltk_data...\n",
            "[nltk_data]   Package stopwords is already up-to-date!\n",
            "[nltk_data] Downloading package punkt to /root/nltk_data...\n",
            "[nltk_data]   Package punkt is already up-to-date!\n"
          ]
        },
        {
          "output_type": "execute_result",
          "data": {
            "text/plain": [
              "0                           [getting, borderlands, murder]\n",
              "1                                  [coming, borders, kill]\n",
              "2                             [getting, borderlands, kill]\n",
              "3                            [coming, borderlands, murder]\n",
              "4                        [getting, borderlands, 2, murder]\n",
              "                               ...                        \n",
              "19995    [felt, like, making, solo, character, high, el...\n",
              "19996    [felt, like, making, quite, brand, new, charac...\n",
              "19997    [felt, like, quirky, character, wild, elf, sch...\n",
              "19998                              [ridiculous, fantastic]\n",
              "19999                              [ridiculous, fantastic]\n",
              "Name: Phrase, Length: 16321, dtype: object"
            ]
          },
          "metadata": {},
          "execution_count": 156
        }
      ]
    },
    {
      "cell_type": "code",
      "source": [
        "# lets remove the Numbers also\n",
        "import re\n",
        "def drop_numbers(list_text):\n",
        "    list_text_new = []\n",
        "    for i in list_text:\n",
        "        if not re.search('\\d', i):\n",
        "            list_text_new.append(i)\n",
        "    return ' '.join(list_text_new)\n",
        "\n",
        "tweets['Phrase'] = tweets['Phrase'].apply(drop_numbers)\n",
        "tweets['Phrase']"
      ],
      "metadata": {
        "colab": {
          "base_uri": "https://localhost:8080/"
        },
        "id": "OqKbDpRrfGPI",
        "outputId": "900e2eeb-3d0b-4ad0-9b8d-89f5875f1939"
      },
      "execution_count": 157,
      "outputs": [
        {
          "output_type": "execute_result",
          "data": {
            "text/plain": [
              "0                               getting borderlands murder\n",
              "1                                      coming borders kill\n",
              "2                                 getting borderlands kill\n",
              "3                                coming borderlands murder\n",
              "4                               getting borderlands murder\n",
              "                               ...                        \n",
              "19995    felt like making solo character high elf schlo...\n",
              "19996    felt like making quite brand new character hig...\n",
              "19997    felt like quirky character wild elf schlong ca...\n",
              "19998                                 ridiculous fantastic\n",
              "19999                                 ridiculous fantastic\n",
              "Name: Phrase, Length: 16321, dtype: object"
            ]
          },
          "metadata": {},
          "execution_count": 157
        }
      ]
    },
    {
      "cell_type": "code",
      "source": [
        "# Perform lemmatisation\n",
        "import nltk\n",
        "nltk.download('wordnet')\n",
        "nltk.download('omw-1.4')\n",
        "from nltk import WordNetLemmatizer\n",
        "\n",
        "lemmatizer = WordNetLemmatizer()\n",
        "def lemmatise(text):\n",
        "    text_tokens = word_tokenize(text)\n",
        "    text_lemm = [lemmatizer.lemmatize(word) for word in text_tokens]\n",
        "    return ' '.join(text_lemm)\n",
        "tweets['Phrase'] = tweets['Phrase'].apply(lemmatise)\n",
        "tweets['Phrase']"
      ],
      "metadata": {
        "colab": {
          "base_uri": "https://localhost:8080/"
        },
        "id": "YuQMAZUXfOxC",
        "outputId": "d948d511-3c84-445a-bb68-7f70d5990f61"
      },
      "execution_count": 158,
      "outputs": [
        {
          "output_type": "stream",
          "name": "stderr",
          "text": [
            "[nltk_data] Downloading package wordnet to /root/nltk_data...\n",
            "[nltk_data]   Package wordnet is already up-to-date!\n",
            "[nltk_data] Downloading package omw-1.4 to /root/nltk_data...\n",
            "[nltk_data]   Package omw-1.4 is already up-to-date!\n"
          ]
        },
        {
          "output_type": "execute_result",
          "data": {
            "text/plain": [
              "0                                getting borderland murder\n",
              "1                                       coming border kill\n",
              "2                                  getting borderland kill\n",
              "3                                 coming borderland murder\n",
              "4                                getting borderland murder\n",
              "                               ...                        \n",
              "19995    felt like making solo character high elf schlo...\n",
              "19996    felt like making quite brand new character hig...\n",
              "19997    felt like quirky character wild elf schlong ca...\n",
              "19998                                 ridiculous fantastic\n",
              "19999                                 ridiculous fantastic\n",
              "Name: Phrase, Length: 16321, dtype: object"
            ]
          },
          "metadata": {},
          "execution_count": 158
        }
      ]
    },
    {
      "cell_type": "code",
      "source": [
        "# remove non ASCII characters\n",
        "tweets['Phrase']= tweets['Phrase'].str.encode('ascii', 'ignore').str.decode('ascii')\n",
        "print(\"After removing non-ascii:\")\n",
        "tweets['Phrase']"
      ],
      "metadata": {
        "colab": {
          "base_uri": "https://localhost:8080/"
        },
        "id": "sWntd94Qt7xf",
        "outputId": "49cf323f-bf69-4a61-af75-5b4590c19c35"
      },
      "execution_count": 159,
      "outputs": [
        {
          "output_type": "stream",
          "name": "stdout",
          "text": [
            "After removing non-ascii:\n"
          ]
        },
        {
          "output_type": "execute_result",
          "data": {
            "text/plain": [
              "0                                getting borderland murder\n",
              "1                                       coming border kill\n",
              "2                                  getting borderland kill\n",
              "3                                 coming borderland murder\n",
              "4                                getting borderland murder\n",
              "                               ...                        \n",
              "19995    felt like making solo character high elf schlo...\n",
              "19996    felt like making quite brand new character hig...\n",
              "19997    felt like quirky character wild elf schlong ca...\n",
              "19998                                 ridiculous fantastic\n",
              "19999                                 ridiculous fantastic\n",
              "Name: Phrase, Length: 16321, dtype: object"
            ]
          },
          "metadata": {},
          "execution_count": 159
        }
      ]
    },
    {
      "cell_type": "code",
      "source": [
        "# Delete null values if any in the dataset\n",
        "tweets=tweets.dropna()\n",
        "tweets.isnull().sum()"
      ],
      "metadata": {
        "colab": {
          "base_uri": "https://localhost:8080/"
        },
        "id": "dZ-PbUehmYtX",
        "outputId": "d90e55c9-ceae-4655-e077-9d23625765ed"
      },
      "execution_count": 160,
      "outputs": [
        {
          "output_type": "execute_result",
          "data": {
            "text/plain": [
              "Sentiment    0\n",
              "Phrase       0\n",
              "dtype: int64"
            ]
          },
          "metadata": {},
          "execution_count": 160
        }
      ]
    },
    {
      "cell_type": "markdown",
      "source": [
        "### Apply label encoding to generate multiclassification labels"
      ],
      "metadata": {
        "id": "ImU3E947nVGw"
      }
    },
    {
      "cell_type": "code",
      "source": [
        "# Import label encoder\n",
        "from sklearn import preprocessing\n",
        "  \n",
        "# label_encoder object knows how to understand word labels.\n",
        "label_encoder = preprocessing.LabelEncoder()\n",
        "  \n",
        "# Encode target labels from the column 'Sentiment'.\n",
        "target_labels = label_encoder.fit_transform(tweets['Sentiment'])\n",
        "target_labels"
      ],
      "metadata": {
        "colab": {
          "base_uri": "https://localhost:8080/"
        },
        "id": "VeeqVencfv5Q",
        "outputId": "21b6d65d-7969-4dd7-f316-00a3cf2cffb2"
      },
      "execution_count": 161,
      "outputs": [
        {
          "output_type": "execute_result",
          "data": {
            "text/plain": [
              "array([2, 2, 2, ..., 1, 2, 2])"
            ]
          },
          "metadata": {},
          "execution_count": 161
        }
      ]
    },
    {
      "cell_type": "code",
      "source": [
        "np.unique(target_labels)"
      ],
      "metadata": {
        "colab": {
          "base_uri": "https://localhost:8080/"
        },
        "id": "uJKvYIGUgUB7",
        "outputId": "60259ea4-31f3-4890-ef94-f09d78241a98"
      },
      "execution_count": 162,
      "outputs": [
        {
          "output_type": "execute_result",
          "data": {
            "text/plain": [
              "array([0, 1, 2])"
            ]
          },
          "metadata": {},
          "execution_count": 162
        }
      ]
    },
    {
      "cell_type": "code",
      "source": [
        "class_names=['Neutral','Negative','Positve']\n",
        "# Negative - 1 (1 labelled as Negative)\n",
        "# Positive - 2 (2 labelled as Positive)\n",
        "# Neutral  - 0 (0 labelled as Neutral)"
      ],
      "metadata": {
        "id": "EA0qRNichVY7"
      },
      "execution_count": 163,
      "outputs": []
    },
    {
      "cell_type": "markdown",
      "source": [
        "## Create Document term matrix using the TFIDFVectorizer"
      ],
      "metadata": {
        "id": "JXjtWO-lnnHH"
      }
    },
    {
      "cell_type": "code",
      "source": [
        "vec=TfidfVectorizer()\n",
        "matrix=vec.fit_transform(tweets['Phrase'])\n",
        "vectorized_data_features = pd.DataFrame(matrix.toarray())\n",
        "vectorized_data_features"
      ],
      "metadata": {
        "colab": {
          "base_uri": "https://localhost:8080/",
          "height": 424
        },
        "id": "hMVE6tbonxHy",
        "outputId": "c9a86a19-018c-4826-b727-0244652fe98e"
      },
      "execution_count": 164,
      "outputs": [
        {
          "output_type": "execute_result",
          "data": {
            "text/plain": [
              "       0      1      2      3      4      5      6      7      8      9      \\\n",
              "0        0.0    0.0    0.0    0.0    0.0    0.0    0.0    0.0    0.0    0.0   \n",
              "1        0.0    0.0    0.0    0.0    0.0    0.0    0.0    0.0    0.0    0.0   \n",
              "2        0.0    0.0    0.0    0.0    0.0    0.0    0.0    0.0    0.0    0.0   \n",
              "3        0.0    0.0    0.0    0.0    0.0    0.0    0.0    0.0    0.0    0.0   \n",
              "4        0.0    0.0    0.0    0.0    0.0    0.0    0.0    0.0    0.0    0.0   \n",
              "...      ...    ...    ...    ...    ...    ...    ...    ...    ...    ...   \n",
              "16316    0.0    0.0    0.0    0.0    0.0    0.0    0.0    0.0    0.0    0.0   \n",
              "16317    0.0    0.0    0.0    0.0    0.0    0.0    0.0    0.0    0.0    0.0   \n",
              "16318    0.0    0.0    0.0    0.0    0.0    0.0    0.0    0.0    0.0    0.0   \n",
              "16319    0.0    0.0    0.0    0.0    0.0    0.0    0.0    0.0    0.0    0.0   \n",
              "16320    0.0    0.0    0.0    0.0    0.0    0.0    0.0    0.0    0.0    0.0   \n",
              "\n",
              "       ...  10189  10190  10191  10192  10193  10194  10195  10196  10197  \\\n",
              "0      ...    0.0    0.0    0.0    0.0    0.0    0.0    0.0    0.0    0.0   \n",
              "1      ...    0.0    0.0    0.0    0.0    0.0    0.0    0.0    0.0    0.0   \n",
              "2      ...    0.0    0.0    0.0    0.0    0.0    0.0    0.0    0.0    0.0   \n",
              "3      ...    0.0    0.0    0.0    0.0    0.0    0.0    0.0    0.0    0.0   \n",
              "4      ...    0.0    0.0    0.0    0.0    0.0    0.0    0.0    0.0    0.0   \n",
              "...    ...    ...    ...    ...    ...    ...    ...    ...    ...    ...   \n",
              "16316  ...    0.0    0.0    0.0    0.0    0.0    0.0    0.0    0.0    0.0   \n",
              "16317  ...    0.0    0.0    0.0    0.0    0.0    0.0    0.0    0.0    0.0   \n",
              "16318  ...    0.0    0.0    0.0    0.0    0.0    0.0    0.0    0.0    0.0   \n",
              "16319  ...    0.0    0.0    0.0    0.0    0.0    0.0    0.0    0.0    0.0   \n",
              "16320  ...    0.0    0.0    0.0    0.0    0.0    0.0    0.0    0.0    0.0   \n",
              "\n",
              "       10198  \n",
              "0        0.0  \n",
              "1        0.0  \n",
              "2        0.0  \n",
              "3        0.0  \n",
              "4        0.0  \n",
              "...      ...  \n",
              "16316    0.0  \n",
              "16317    0.0  \n",
              "16318    0.0  \n",
              "16319    0.0  \n",
              "16320    0.0  \n",
              "\n",
              "[16321 rows x 10199 columns]"
            ],
            "text/html": [
              "\n",
              "  <div id=\"df-bebf3c88-fa0c-4bf1-94a7-8330687a9488\">\n",
              "    <div class=\"colab-df-container\">\n",
              "      <div>\n",
              "<style scoped>\n",
              "    .dataframe tbody tr th:only-of-type {\n",
              "        vertical-align: middle;\n",
              "    }\n",
              "\n",
              "    .dataframe tbody tr th {\n",
              "        vertical-align: top;\n",
              "    }\n",
              "\n",
              "    .dataframe thead th {\n",
              "        text-align: right;\n",
              "    }\n",
              "</style>\n",
              "<table border=\"1\" class=\"dataframe\">\n",
              "  <thead>\n",
              "    <tr style=\"text-align: right;\">\n",
              "      <th></th>\n",
              "      <th>0</th>\n",
              "      <th>1</th>\n",
              "      <th>2</th>\n",
              "      <th>3</th>\n",
              "      <th>4</th>\n",
              "      <th>5</th>\n",
              "      <th>6</th>\n",
              "      <th>7</th>\n",
              "      <th>8</th>\n",
              "      <th>9</th>\n",
              "      <th>...</th>\n",
              "      <th>10189</th>\n",
              "      <th>10190</th>\n",
              "      <th>10191</th>\n",
              "      <th>10192</th>\n",
              "      <th>10193</th>\n",
              "      <th>10194</th>\n",
              "      <th>10195</th>\n",
              "      <th>10196</th>\n",
              "      <th>10197</th>\n",
              "      <th>10198</th>\n",
              "    </tr>\n",
              "  </thead>\n",
              "  <tbody>\n",
              "    <tr>\n",
              "      <th>0</th>\n",
              "      <td>0.0</td>\n",
              "      <td>0.0</td>\n",
              "      <td>0.0</td>\n",
              "      <td>0.0</td>\n",
              "      <td>0.0</td>\n",
              "      <td>0.0</td>\n",
              "      <td>0.0</td>\n",
              "      <td>0.0</td>\n",
              "      <td>0.0</td>\n",
              "      <td>0.0</td>\n",
              "      <td>...</td>\n",
              "      <td>0.0</td>\n",
              "      <td>0.0</td>\n",
              "      <td>0.0</td>\n",
              "      <td>0.0</td>\n",
              "      <td>0.0</td>\n",
              "      <td>0.0</td>\n",
              "      <td>0.0</td>\n",
              "      <td>0.0</td>\n",
              "      <td>0.0</td>\n",
              "      <td>0.0</td>\n",
              "    </tr>\n",
              "    <tr>\n",
              "      <th>1</th>\n",
              "      <td>0.0</td>\n",
              "      <td>0.0</td>\n",
              "      <td>0.0</td>\n",
              "      <td>0.0</td>\n",
              "      <td>0.0</td>\n",
              "      <td>0.0</td>\n",
              "      <td>0.0</td>\n",
              "      <td>0.0</td>\n",
              "      <td>0.0</td>\n",
              "      <td>0.0</td>\n",
              "      <td>...</td>\n",
              "      <td>0.0</td>\n",
              "      <td>0.0</td>\n",
              "      <td>0.0</td>\n",
              "      <td>0.0</td>\n",
              "      <td>0.0</td>\n",
              "      <td>0.0</td>\n",
              "      <td>0.0</td>\n",
              "      <td>0.0</td>\n",
              "      <td>0.0</td>\n",
              "      <td>0.0</td>\n",
              "    </tr>\n",
              "    <tr>\n",
              "      <th>2</th>\n",
              "      <td>0.0</td>\n",
              "      <td>0.0</td>\n",
              "      <td>0.0</td>\n",
              "      <td>0.0</td>\n",
              "      <td>0.0</td>\n",
              "      <td>0.0</td>\n",
              "      <td>0.0</td>\n",
              "      <td>0.0</td>\n",
              "      <td>0.0</td>\n",
              "      <td>0.0</td>\n",
              "      <td>...</td>\n",
              "      <td>0.0</td>\n",
              "      <td>0.0</td>\n",
              "      <td>0.0</td>\n",
              "      <td>0.0</td>\n",
              "      <td>0.0</td>\n",
              "      <td>0.0</td>\n",
              "      <td>0.0</td>\n",
              "      <td>0.0</td>\n",
              "      <td>0.0</td>\n",
              "      <td>0.0</td>\n",
              "    </tr>\n",
              "    <tr>\n",
              "      <th>3</th>\n",
              "      <td>0.0</td>\n",
              "      <td>0.0</td>\n",
              "      <td>0.0</td>\n",
              "      <td>0.0</td>\n",
              "      <td>0.0</td>\n",
              "      <td>0.0</td>\n",
              "      <td>0.0</td>\n",
              "      <td>0.0</td>\n",
              "      <td>0.0</td>\n",
              "      <td>0.0</td>\n",
              "      <td>...</td>\n",
              "      <td>0.0</td>\n",
              "      <td>0.0</td>\n",
              "      <td>0.0</td>\n",
              "      <td>0.0</td>\n",
              "      <td>0.0</td>\n",
              "      <td>0.0</td>\n",
              "      <td>0.0</td>\n",
              "      <td>0.0</td>\n",
              "      <td>0.0</td>\n",
              "      <td>0.0</td>\n",
              "    </tr>\n",
              "    <tr>\n",
              "      <th>4</th>\n",
              "      <td>0.0</td>\n",
              "      <td>0.0</td>\n",
              "      <td>0.0</td>\n",
              "      <td>0.0</td>\n",
              "      <td>0.0</td>\n",
              "      <td>0.0</td>\n",
              "      <td>0.0</td>\n",
              "      <td>0.0</td>\n",
              "      <td>0.0</td>\n",
              "      <td>0.0</td>\n",
              "      <td>...</td>\n",
              "      <td>0.0</td>\n",
              "      <td>0.0</td>\n",
              "      <td>0.0</td>\n",
              "      <td>0.0</td>\n",
              "      <td>0.0</td>\n",
              "      <td>0.0</td>\n",
              "      <td>0.0</td>\n",
              "      <td>0.0</td>\n",
              "      <td>0.0</td>\n",
              "      <td>0.0</td>\n",
              "    </tr>\n",
              "    <tr>\n",
              "      <th>...</th>\n",
              "      <td>...</td>\n",
              "      <td>...</td>\n",
              "      <td>...</td>\n",
              "      <td>...</td>\n",
              "      <td>...</td>\n",
              "      <td>...</td>\n",
              "      <td>...</td>\n",
              "      <td>...</td>\n",
              "      <td>...</td>\n",
              "      <td>...</td>\n",
              "      <td>...</td>\n",
              "      <td>...</td>\n",
              "      <td>...</td>\n",
              "      <td>...</td>\n",
              "      <td>...</td>\n",
              "      <td>...</td>\n",
              "      <td>...</td>\n",
              "      <td>...</td>\n",
              "      <td>...</td>\n",
              "      <td>...</td>\n",
              "      <td>...</td>\n",
              "    </tr>\n",
              "    <tr>\n",
              "      <th>16316</th>\n",
              "      <td>0.0</td>\n",
              "      <td>0.0</td>\n",
              "      <td>0.0</td>\n",
              "      <td>0.0</td>\n",
              "      <td>0.0</td>\n",
              "      <td>0.0</td>\n",
              "      <td>0.0</td>\n",
              "      <td>0.0</td>\n",
              "      <td>0.0</td>\n",
              "      <td>0.0</td>\n",
              "      <td>...</td>\n",
              "      <td>0.0</td>\n",
              "      <td>0.0</td>\n",
              "      <td>0.0</td>\n",
              "      <td>0.0</td>\n",
              "      <td>0.0</td>\n",
              "      <td>0.0</td>\n",
              "      <td>0.0</td>\n",
              "      <td>0.0</td>\n",
              "      <td>0.0</td>\n",
              "      <td>0.0</td>\n",
              "    </tr>\n",
              "    <tr>\n",
              "      <th>16317</th>\n",
              "      <td>0.0</td>\n",
              "      <td>0.0</td>\n",
              "      <td>0.0</td>\n",
              "      <td>0.0</td>\n",
              "      <td>0.0</td>\n",
              "      <td>0.0</td>\n",
              "      <td>0.0</td>\n",
              "      <td>0.0</td>\n",
              "      <td>0.0</td>\n",
              "      <td>0.0</td>\n",
              "      <td>...</td>\n",
              "      <td>0.0</td>\n",
              "      <td>0.0</td>\n",
              "      <td>0.0</td>\n",
              "      <td>0.0</td>\n",
              "      <td>0.0</td>\n",
              "      <td>0.0</td>\n",
              "      <td>0.0</td>\n",
              "      <td>0.0</td>\n",
              "      <td>0.0</td>\n",
              "      <td>0.0</td>\n",
              "    </tr>\n",
              "    <tr>\n",
              "      <th>16318</th>\n",
              "      <td>0.0</td>\n",
              "      <td>0.0</td>\n",
              "      <td>0.0</td>\n",
              "      <td>0.0</td>\n",
              "      <td>0.0</td>\n",
              "      <td>0.0</td>\n",
              "      <td>0.0</td>\n",
              "      <td>0.0</td>\n",
              "      <td>0.0</td>\n",
              "      <td>0.0</td>\n",
              "      <td>...</td>\n",
              "      <td>0.0</td>\n",
              "      <td>0.0</td>\n",
              "      <td>0.0</td>\n",
              "      <td>0.0</td>\n",
              "      <td>0.0</td>\n",
              "      <td>0.0</td>\n",
              "      <td>0.0</td>\n",
              "      <td>0.0</td>\n",
              "      <td>0.0</td>\n",
              "      <td>0.0</td>\n",
              "    </tr>\n",
              "    <tr>\n",
              "      <th>16319</th>\n",
              "      <td>0.0</td>\n",
              "      <td>0.0</td>\n",
              "      <td>0.0</td>\n",
              "      <td>0.0</td>\n",
              "      <td>0.0</td>\n",
              "      <td>0.0</td>\n",
              "      <td>0.0</td>\n",
              "      <td>0.0</td>\n",
              "      <td>0.0</td>\n",
              "      <td>0.0</td>\n",
              "      <td>...</td>\n",
              "      <td>0.0</td>\n",
              "      <td>0.0</td>\n",
              "      <td>0.0</td>\n",
              "      <td>0.0</td>\n",
              "      <td>0.0</td>\n",
              "      <td>0.0</td>\n",
              "      <td>0.0</td>\n",
              "      <td>0.0</td>\n",
              "      <td>0.0</td>\n",
              "      <td>0.0</td>\n",
              "    </tr>\n",
              "    <tr>\n",
              "      <th>16320</th>\n",
              "      <td>0.0</td>\n",
              "      <td>0.0</td>\n",
              "      <td>0.0</td>\n",
              "      <td>0.0</td>\n",
              "      <td>0.0</td>\n",
              "      <td>0.0</td>\n",
              "      <td>0.0</td>\n",
              "      <td>0.0</td>\n",
              "      <td>0.0</td>\n",
              "      <td>0.0</td>\n",
              "      <td>...</td>\n",
              "      <td>0.0</td>\n",
              "      <td>0.0</td>\n",
              "      <td>0.0</td>\n",
              "      <td>0.0</td>\n",
              "      <td>0.0</td>\n",
              "      <td>0.0</td>\n",
              "      <td>0.0</td>\n",
              "      <td>0.0</td>\n",
              "      <td>0.0</td>\n",
              "      <td>0.0</td>\n",
              "    </tr>\n",
              "  </tbody>\n",
              "</table>\n",
              "<p>16321 rows × 10199 columns</p>\n",
              "</div>\n",
              "      <button class=\"colab-df-convert\" onclick=\"convertToInteractive('df-bebf3c88-fa0c-4bf1-94a7-8330687a9488')\"\n",
              "              title=\"Convert this dataframe to an interactive table.\"\n",
              "              style=\"display:none;\">\n",
              "        \n",
              "  <svg xmlns=\"http://www.w3.org/2000/svg\" height=\"24px\"viewBox=\"0 0 24 24\"\n",
              "       width=\"24px\">\n",
              "    <path d=\"M0 0h24v24H0V0z\" fill=\"none\"/>\n",
              "    <path d=\"M18.56 5.44l.94 2.06.94-2.06 2.06-.94-2.06-.94-.94-2.06-.94 2.06-2.06.94zm-11 1L8.5 8.5l.94-2.06 2.06-.94-2.06-.94L8.5 2.5l-.94 2.06-2.06.94zm10 10l.94 2.06.94-2.06 2.06-.94-2.06-.94-.94-2.06-.94 2.06-2.06.94z\"/><path d=\"M17.41 7.96l-1.37-1.37c-.4-.4-.92-.59-1.43-.59-.52 0-1.04.2-1.43.59L10.3 9.45l-7.72 7.72c-.78.78-.78 2.05 0 2.83L4 21.41c.39.39.9.59 1.41.59.51 0 1.02-.2 1.41-.59l7.78-7.78 2.81-2.81c.8-.78.8-2.07 0-2.86zM5.41 20L4 18.59l7.72-7.72 1.47 1.35L5.41 20z\"/>\n",
              "  </svg>\n",
              "      </button>\n",
              "      \n",
              "  <style>\n",
              "    .colab-df-container {\n",
              "      display:flex;\n",
              "      flex-wrap:wrap;\n",
              "      gap: 12px;\n",
              "    }\n",
              "\n",
              "    .colab-df-convert {\n",
              "      background-color: #E8F0FE;\n",
              "      border: none;\n",
              "      border-radius: 50%;\n",
              "      cursor: pointer;\n",
              "      display: none;\n",
              "      fill: #1967D2;\n",
              "      height: 32px;\n",
              "      padding: 0 0 0 0;\n",
              "      width: 32px;\n",
              "    }\n",
              "\n",
              "    .colab-df-convert:hover {\n",
              "      background-color: #E2EBFA;\n",
              "      box-shadow: 0px 1px 2px rgba(60, 64, 67, 0.3), 0px 1px 3px 1px rgba(60, 64, 67, 0.15);\n",
              "      fill: #174EA6;\n",
              "    }\n",
              "\n",
              "    [theme=dark] .colab-df-convert {\n",
              "      background-color: #3B4455;\n",
              "      fill: #D2E3FC;\n",
              "    }\n",
              "\n",
              "    [theme=dark] .colab-df-convert:hover {\n",
              "      background-color: #434B5C;\n",
              "      box-shadow: 0px 1px 3px 1px rgba(0, 0, 0, 0.15);\n",
              "      filter: drop-shadow(0px 1px 2px rgba(0, 0, 0, 0.3));\n",
              "      fill: #FFFFFF;\n",
              "    }\n",
              "  </style>\n",
              "\n",
              "      <script>\n",
              "        const buttonEl =\n",
              "          document.querySelector('#df-bebf3c88-fa0c-4bf1-94a7-8330687a9488 button.colab-df-convert');\n",
              "        buttonEl.style.display =\n",
              "          google.colab.kernel.accessAllowed ? 'block' : 'none';\n",
              "\n",
              "        async function convertToInteractive(key) {\n",
              "          const element = document.querySelector('#df-bebf3c88-fa0c-4bf1-94a7-8330687a9488');\n",
              "          const dataTable =\n",
              "            await google.colab.kernel.invokeFunction('convertToInteractive',\n",
              "                                                     [key], {});\n",
              "          if (!dataTable) return;\n",
              "\n",
              "          const docLinkHtml = 'Like what you see? Visit the ' +\n",
              "            '<a target=\"_blank\" href=https://colab.research.google.com/notebooks/data_table.ipynb>data table notebook</a>'\n",
              "            + ' to learn more about interactive tables.';\n",
              "          element.innerHTML = '';\n",
              "          dataTable['output_type'] = 'display_data';\n",
              "          await google.colab.output.renderOutput(dataTable, element);\n",
              "          const docLink = document.createElement('div');\n",
              "          docLink.innerHTML = docLinkHtml;\n",
              "          element.appendChild(docLink);\n",
              "        }\n",
              "      </script>\n",
              "    </div>\n",
              "  </div>\n",
              "  "
            ]
          },
          "metadata": {},
          "execution_count": 164
        }
      ]
    },
    {
      "cell_type": "markdown",
      "source": [
        "##Model Building"
      ],
      "metadata": {
        "id": "nsCUYJVSqh_8"
      }
    },
    {
      "cell_type": "code",
      "source": [
        "from sklearn.model_selection import train_test_split\n",
        "X_train, X_test, y_train, y_test = train_test_split(vectorized_data_features,target_labels, test_size=0.3)"
      ],
      "metadata": {
        "id": "G8GZVO5cqn54"
      },
      "execution_count": 165,
      "outputs": []
    },
    {
      "cell_type": "markdown",
      "source": [
        "## Predict sentiment using Random Forest Algorithm"
      ],
      "metadata": {
        "id": "NUqz4KA2AoAR"
      }
    },
    {
      "cell_type": "code",
      "source": [
        "clf = RandomForestClassifier()\n",
        "clf.fit(X_train, y_train)\n",
        "\n",
        "preds = clf.predict(X_test)"
      ],
      "metadata": {
        "id": "BCGmJPVJq4tE"
      },
      "execution_count": 166,
      "outputs": []
    },
    {
      "cell_type": "code",
      "source": [
        "# Compute metrics such as precision recall and classification for all the three classes\n",
        "print(classification_report(y_test, preds, target_names=class_names))"
      ],
      "metadata": {
        "colab": {
          "base_uri": "https://localhost:8080/"
        },
        "id": "9spmuhE1rM99",
        "outputId": "0a9f312b-83ed-4aa3-d173-a0ab8c274a73"
      },
      "execution_count": 167,
      "outputs": [
        {
          "output_type": "stream",
          "name": "stdout",
          "text": [
            "              precision    recall  f1-score   support\n",
            "\n",
            "     Neutral       0.94      0.91      0.92      1606\n",
            "    Negative       0.95      0.86      0.90      1472\n",
            "     Positve       0.86      0.95      0.90      1819\n",
            "\n",
            "    accuracy                           0.91      4897\n",
            "   macro avg       0.92      0.90      0.91      4897\n",
            "weighted avg       0.91      0.91      0.91      4897\n",
            "\n"
          ]
        }
      ]
    },
    {
      "cell_type": "code",
      "source": [
        "# Generate confusion matrix\n",
        "make_confusion_matrix(y_true=y_test, \n",
        "                      y_pred=preds,\n",
        "                      classes=class_names,\n",
        "                      figsize=(5, 5),\n",
        "                      text_size=10)"
      ],
      "metadata": {
        "colab": {
          "base_uri": "https://localhost:8080/",
          "height": 312
        },
        "id": "vAvKNsP4r3H5",
        "outputId": "28a378f8-c9bf-4ba4-a43f-956cabd2cbc6"
      },
      "execution_count": 168,
      "outputs": [
        {
          "output_type": "display_data",
          "data": {
            "text/plain": [
              "<Figure size 360x360 with 2 Axes>"
            ],
            "image/png": "[encoded data removed]"
          },
          "metadata": {
            "needs_background": "light"
          }
        }
      ]
    },
    {
      "cell_type": "code",
      "source": [
        "# Make a prettier confusion matrix\n",
        "def make_confusion_matrix(y_true, y_pred, classes=None, figsize=(10, 10), text_size=15): \n",
        "  \"\"\"Makes a labelled confusion matrix comparing predictions and ground truth labels.\n",
        "\n",
        "  If classes is passed, confusion matrix will be labelled, if not, integer class values\n",
        "  will be used.\n",
        "\n",
        "  Args:\n",
        "    y_true: Array of truth labels (must be same shape as y_pred).\n",
        "    y_pred: Array of predicted labels (must be same shape as y_true).\n",
        "    classes: Array of class labels (e.g. string form). If `None`, integer labels are used.\n",
        "    figsize: Size of output figure (default=(10, 10)).\n",
        "    text_size: Size of output figure text (default=15).\n",
        "  \n",
        "  Returns:\n",
        "    A labelled confusion matrix plot comparing y_true and y_pred.\n",
        "\n",
        "  Example usage:\n",
        "    make_confusion_matrix(y_true=test_labels, # ground truth test labels\n",
        "                          y_pred=y_preds, # predicted labels\n",
        "                          classes=class_names, # array of class label names\n",
        "                          figsize=(15, 15),\n",
        "                          text_size=10)\n",
        "  \"\"\"  \n",
        "  # Create the confustion matrix\n",
        "  cm = confusion_matrix(y_true, y_pred)\n",
        "  cm_norm = cm.astype(\"float\") / cm.sum(axis=1)[:, np.newaxis] # normalize it\n",
        "  n_classes = cm.shape[0] # find the number of classes we're dealing with\n",
        "\n",
        "  # Plot the figure and make it pretty\n",
        "  fig, ax = plt.subplots(figsize=figsize)\n",
        "  cax = ax.matshow(cm, cmap=plt.cm.Blues) # colors will represent how 'correct' a class is, darker == better\n",
        "  fig.colorbar(cax)\n",
        "\n",
        "  # Are there a list of classes?\n",
        "  if classes:\n",
        "    labels = classes\n",
        "  else:\n",
        "    labels = np.arange(cm.shape[0])\n",
        "  \n",
        "  # Label the axes\n",
        "  ax.set(title=\"Confusion Matrix\",\n",
        "         xlabel=\"Predicted label\",\n",
        "         ylabel=\"True label\",\n",
        "         xticks=np.arange(n_classes), # create enough axis slots for each class\n",
        "         yticks=np.arange(n_classes), \n",
        "         xticklabels=labels, # axes will labeled with class names (if they exist) or ints\n",
        "         yticklabels=labels)\n",
        "  \n",
        "  # Make x-axis labels appear on bottom\n",
        "  ax.xaxis.set_label_position(\"bottom\")\n",
        "  ax.xaxis.tick_bottom()\n",
        "\n",
        "  # Set the threshold for different colors\n",
        "  threshold = (cm.max() + cm.min()) / 2.\n",
        "\n",
        "  # Plot the text on each cell\n",
        "  for i, j in itertools.product(range(cm.shape[0]), range(cm.shape[1])):\n",
        "    plt.text(j, i, f\"{cm[i, j]} ({cm_norm[i, j]*100:.1f}%)\",\n",
        "             horizontalalignment=\"center\",\n",
        "             color=\"white\" if cm[i, j] > threshold else \"black\",\n",
        "             size=text_size)"
      ],
      "metadata": {
        "id": "Mnoz8HFGPh6b"
      },
      "execution_count": 85,
      "outputs": []
    },
    {
      "cell_type": "markdown",
      "source": [
        "##Perform Model Building Using Naive Bayes Classifier"
      ],
      "metadata": {
        "id": "3dTwNspp7dna"
      }
    },
    {
      "cell_type": "code",
      "source": [
        "from sklearn.naive_bayes import GaussianNB\n",
        "# instantiate the model\n",
        "gnb = GaussianNB()\n",
        "# fit the model\n",
        "gnb.fit(X_train, y_train)\n",
        "preds = gnb.predict(X_test)"
      ],
      "metadata": {
        "id": "x9luBU_m6r8y"
      },
      "execution_count": 169,
      "outputs": []
    },
    {
      "cell_type": "code",
      "source": [
        "# Generate confusion matrix\n",
        "make_confusion_matrix(y_true=y_test, \n",
        "                      y_pred=preds,\n",
        "                      classes=class_names,\n",
        "                      figsize=(5, 5),\n",
        "                      text_size=10)"
      ],
      "metadata": {
        "colab": {
          "base_uri": "https://localhost:8080/",
          "height": 312
        },
        "id": "KnmLKdCb6z6E",
        "outputId": "99224aa7-18ae-4f27-a457-e15ed89a56ee"
      },
      "execution_count": 170,
      "outputs": [
        {
          "output_type": "display_data",
          "data": {
            "text/plain": [
              "<Figure size 360x360 with 2 Axes>"
            ],
            "image/png": "[encoded data removed]"
          },
          "metadata": {
            "needs_background": "light"
          }
        }
      ]
    },
    {
      "cell_type": "code",
      "source": [
        "# Compute metrics such as precision recall and classification for all the three classes\n",
        "print(classification_report(y_test, preds, target_names=class_names))"
      ],
      "metadata": {
        "colab": {
          "base_uri": "https://localhost:8080/"
        },
        "id": "5dFzhhLY7I9a",
        "outputId": "e760db59-84c7-4cc9-9ace-ac0bf2aea00b"
      },
      "execution_count": 171,
      "outputs": [
        {
          "output_type": "stream",
          "name": "stdout",
          "text": [
            "              precision    recall  f1-score   support\n",
            "\n",
            "     Neutral       0.74      0.92      0.82      1606\n",
            "    Negative       0.93      0.71      0.80      1472\n",
            "     Positve       0.85      0.84      0.84      1819\n",
            "\n",
            "    accuracy                           0.82      4897\n",
            "   macro avg       0.84      0.82      0.82      4897\n",
            "weighted avg       0.84      0.82      0.82      4897\n",
            "\n"
          ]
        }
      ]
    },
    {
      "cell_type": "markdown",
      "source": [
        "##Perform Model Building Using Neural Network"
      ],
      "metadata": {
        "id": "Fvxmn3oL9rk7"
      }
    },
    {
      "cell_type": "code",
      "source": [
        "# Set random seed\n",
        "tf.random.set_seed(42)\n",
        "\n",
        "# Create the model\n",
        "model_14 = tf.keras.Sequential([\n",
        "  tf.keras.layers.Dense(4, activation=\"relu\"),\n",
        "  tf.keras.layers.Dense(4, activation=\"relu\"),\n",
        "  tf.keras.layers.Dense(3, activation=\"softmax\") # output shape is 3, activation is softmax for multiclassification\n",
        "])\n",
        "\n",
        "# Compile the model\n",
        "model_14.compile(loss=tf.keras.losses.SparseCategoricalCrossentropy(),\n",
        "                 optimizer=tf.keras.optimizers.Adam(lr=0.001), \n",
        "                 metrics=[\"accuracy\"])\n",
        "\n",
        "# Fit the model\n",
        "history = model_14.fit(X_train,\n",
        "                       y_train,\n",
        "                       epochs=20,\n",
        "                       validation_data=(X_test, y_test))"
      ],
      "metadata": {
        "colab": {
          "base_uri": "https://localhost:8080/"
        },
        "id": "6J2ezsHW7srw",
        "outputId": "17b498e9-5968-4c14-8e1a-3449c4f5b8f0"
      },
      "execution_count": 172,
      "outputs": [
        {
          "output_type": "stream",
          "name": "stderr",
          "text": [
            "/usr/local/lib/python3.8/dist-packages/keras/optimizers/optimizer_v2/adam.py:110: UserWarning: The `lr` argument is deprecated, use `learning_rate` instead.\n",
            "  super(Adam, self).__init__(name, **kwargs)\n"
          ]
        },
        {
          "output_type": "stream",
          "name": "stdout",
          "text": [
            "Epoch 1/20\n",
            "357/357 [==============================] - 2s 5ms/step - loss: 1.0458 - accuracy: 0.5066 - val_loss: 0.9304 - val_accuracy: 0.6769\n",
            "Epoch 2/20\n",
            "357/357 [==============================] - 2s 6ms/step - loss: 0.7154 - accuracy: 0.7829 - val_loss: 0.5955 - val_accuracy: 0.8191\n",
            "Epoch 3/20\n",
            "357/357 [==============================] - 2s 5ms/step - loss: 0.4024 - accuracy: 0.8990 - val_loss: 0.4227 - val_accuracy: 0.8611\n",
            "Epoch 4/20\n",
            "357/357 [==============================] - 2s 5ms/step - loss: 0.2493 - accuracy: 0.9329 - val_loss: 0.3370 - val_accuracy: 0.8826\n",
            "Epoch 5/20\n",
            "357/357 [==============================] - 2s 5ms/step - loss: 0.1759 - accuracy: 0.9498 - val_loss: 0.3017 - val_accuracy: 0.8938\n",
            "Epoch 6/20\n",
            "357/357 [==============================] - 2s 5ms/step - loss: 0.1386 - accuracy: 0.9587 - val_loss: 0.2849 - val_accuracy: 0.8952\n",
            "Epoch 7/20\n",
            "357/357 [==============================] - 2s 5ms/step - loss: 0.1166 - accuracy: 0.9633 - val_loss: 0.2821 - val_accuracy: 0.8940\n",
            "Epoch 8/20\n",
            "357/357 [==============================] - 2s 6ms/step - loss: 0.1022 - accuracy: 0.9679 - val_loss: 0.2743 - val_accuracy: 0.8993\n",
            "Epoch 9/20\n",
            "357/357 [==============================] - 2s 6ms/step - loss: 0.0919 - accuracy: 0.9681 - val_loss: 0.2735 - val_accuracy: 0.8987\n",
            "Epoch 10/20\n",
            "357/357 [==============================] - 2s 6ms/step - loss: 0.0840 - accuracy: 0.9701 - val_loss: 0.2734 - val_accuracy: 0.9008\n",
            "Epoch 11/20\n",
            "357/357 [==============================] - 2s 6ms/step - loss: 0.0774 - accuracy: 0.9712 - val_loss: 0.2793 - val_accuracy: 0.9008\n",
            "Epoch 12/20\n",
            "357/357 [==============================] - 2s 6ms/step - loss: 0.0728 - accuracy: 0.9716 - val_loss: 0.2810 - val_accuracy: 0.9008\n",
            "Epoch 13/20\n",
            "357/357 [==============================] - 2s 5ms/step - loss: 0.0688 - accuracy: 0.9720 - val_loss: 0.2817 - val_accuracy: 0.8989\n",
            "Epoch 14/20\n",
            "357/357 [==============================] - 2s 6ms/step - loss: 0.0658 - accuracy: 0.9729 - val_loss: 0.2893 - val_accuracy: 0.9001\n",
            "Epoch 15/20\n",
            "357/357 [==============================] - 2s 6ms/step - loss: 0.0637 - accuracy: 0.9734 - val_loss: 0.2946 - val_accuracy: 0.8987\n",
            "Epoch 16/20\n",
            "357/357 [==============================] - 2s 6ms/step - loss: 0.0617 - accuracy: 0.9737 - val_loss: 0.3029 - val_accuracy: 0.8987\n",
            "Epoch 17/20\n",
            "357/357 [==============================] - 2s 5ms/step - loss: 0.0596 - accuracy: 0.9737 - val_loss: 0.3043 - val_accuracy: 0.8981\n",
            "Epoch 18/20\n",
            "357/357 [==============================] - 2s 5ms/step - loss: 0.0583 - accuracy: 0.9745 - val_loss: 0.3141 - val_accuracy: 0.8975\n",
            "Epoch 19/20\n",
            "357/357 [==============================] - 2s 6ms/step - loss: 0.0571 - accuracy: 0.9743 - val_loss: 0.3238 - val_accuracy: 0.8971\n",
            "Epoch 20/20\n",
            "357/357 [==============================] - 2s 5ms/step - loss: 0.0561 - accuracy: 0.9751 - val_loss: 0.3318 - val_accuracy: 0.8973\n"
          ]
        }
      ]
    },
    {
      "cell_type": "code",
      "source": [
        "pd.DataFrame(history.history).plot()\n",
        "plt.title(\"Model_14 training curves\")"
      ],
      "metadata": {
        "colab": {
          "base_uri": "https://localhost:8080/",
          "height": 298
        },
        "id": "p7cv52R1-V9y",
        "outputId": "5441fe95-5d02-49c9-ed20-ec70e0356c82"
      },
      "execution_count": 173,
      "outputs": [
        {
          "output_type": "execute_result",
          "data": {
            "text/plain": [
              "Text(0.5, 1.0, 'Model_14 training curves')"
            ]
          },
          "metadata": {},
          "execution_count": 173
        },
        {
          "output_type": "display_data",
          "data": {
            "text/plain": [
              "<Figure size 432x288 with 1 Axes>"
            ],
            "image/png": "[encoded data removed]"
          },
          "metadata": {
            "needs_background": "light"
          }
        }
      ]
    },
    {
      "cell_type": "code",
      "source": [
        "y_pred = model_14.predict(X_test)"
      ],
      "metadata": {
        "colab": {
          "base_uri": "https://localhost:8080/"
        },
        "id": "GummDoQZ-ccC",
        "outputId": "bb425d1c-5cf4-40f4-8038-ab35068328b5"
      },
      "execution_count": 174,
      "outputs": [
        {
          "output_type": "stream",
          "name": "stdout",
          "text": [
            "154/154 [==============================] - 0s 2ms/step\n"
          ]
        }
      ]
    },
    {
      "cell_type": "code",
      "source": [
        "# Convert all of the predictions from probabilities to labels\n",
        "y_preds = y_pred.argmax(axis=1)\n",
        "y_preds"
      ],
      "metadata": {
        "colab": {
          "base_uri": "https://localhost:8080/"
        },
        "id": "3qg2YWOw-kVk",
        "outputId": "b6736b86-166a-41db-c8f5-a81b76282ccb"
      },
      "execution_count": 176,
      "outputs": [
        {
          "output_type": "execute_result",
          "data": {
            "text/plain": [
              "array([0, 2, 2, ..., 0, 2, 2])"
            ]
          },
          "metadata": {},
          "execution_count": 176
        }
      ]
    },
    {
      "cell_type": "code",
      "source": [
        "# Generate confusion matrix\n",
        "make_confusion_matrix(y_true=y_test, \n",
        "                      y_pred=preds,\n",
        "                      classes=class_names,\n",
        "                      figsize=(5, 5),\n",
        "                      text_size=10)"
      ],
      "metadata": {
        "colab": {
          "base_uri": "https://localhost:8080/",
          "height": 312
        },
        "id": "v00D1aVB-mT0",
        "outputId": "067f7844-cdb2-495a-a60e-407b1c66f21e"
      },
      "execution_count": 177,
      "outputs": [
        {
          "output_type": "display_data",
          "data": {
            "text/plain": [
              "<Figure size 360x360 with 2 Axes>"
            ],
            "image/png": "[encoded data removed]"
          },
          "metadata": {
            "needs_background": "light"
          }
        }
      ]
    },
    {
      "cell_type": "code",
      "source": [
        "# Compute metrics such as precision recall and classification for all the three classes\n",
        "print(classification_report(y_test, preds, target_names=class_names))"
      ],
      "metadata": {
        "colab": {
          "base_uri": "https://localhost:8080/"
        },
        "id": "Y6Fs47J7-vNn",
        "outputId": "1a51a3d5-ce13-4b37-acf7-b2a27b329468"
      },
      "execution_count": 178,
      "outputs": [
        {
          "output_type": "stream",
          "name": "stdout",
          "text": [
            "              precision    recall  f1-score   support\n",
            "\n",
            "     Neutral       0.74      0.92      0.82      1606\n",
            "    Negative       0.93      0.71      0.80      1472\n",
            "     Positve       0.85      0.84      0.84      1819\n",
            "\n",
            "    accuracy                           0.82      4897\n",
            "   macro avg       0.84      0.82      0.82      4897\n",
            "weighted avg       0.84      0.82      0.82      4897\n",
            "\n"
          ]
        }
      ]
    }
  ]
}